{
 "cells": [
  {
   "cell_type": "markdown",
   "id": "cc5d8309-a733-48ef-b130-199cc8407dc3",
   "metadata": {},
   "source": [
    "<div style=\"width:90%; text-align:center; border-width: 0px; display:block; margin-left:auto; margin-right:auto;\">\n",
    "<div class=\"alert alert-block alert-success\" style=\"text-align:center; color:navy;\">\n",
    "<img src=\"https://raw.githubusercontent.com/bgeneto/MCA/main/imagens/logo_unb.png\" style=\"width: 200px; opacity:0.85;\">\n",
    "<h1>Universidade de Brasília</h1>\n",
    "<h2>Instituto de Física</h2>\n",
    "<hr style=\"width:44%;border:1px solid navy;\">\n",
    "<h3>Métodos Computacionais A (MCA)</h3> \n",
    "<h4>Prof. Bernhard Enders</h4>\n",
    "<hr style=\"width:44%;border:1px solid navy;\">\n",
    "</div>\n",
    "</div>"
   ]
  },
  {
   "cell_type": "markdown",
   "id": "28a391a6-cbc1-4344-aaee-132f27771580",
   "metadata": {},
   "source": [
    "# **➲ Aula 04 - Programação Orientada a Objetos**\n",
    "\n",
    "## ➥ O que é Programação Orientada a Objetos?\n",
    "---"
   ]
  },
  {
   "cell_type": "markdown",
   "id": "3c6bd338-3aae-41e9-bead-3cbcbf1e84d7",
   "metadata": {},
   "source": [
    "Programação Orientada a Objetos (POO) é um paradigma de programação que se baseia na ideia de organizar o código em \"objetos\", que são unidades independentes de software que encapsulam dados (atributos) e comportamentos (métodos) relacionados. Em POO, um programa é estruturado em torno de objetos, que são instâncias de classes, onde as classes são as definições de objetos.\n",
    "\n",
    "Na POO, os objetos são tratados como entidades que têm características específicas (atributos) e podem realizar ações (métodos). A interação entre objetos ocorre através de trocas de mensagens, onde os objetos se comunicam uns com os outros para realizar tarefas e alcançar objetivos. Isso permite uma representação mais próxima do mundo real e facilita a modelagem de sistemas complexos, já que os objetos podem ser criados com base em entidades do mundo real, como pessoas, carros, contas bancárias, entre outros.\n",
    "\n",
    "Os principais conceitos da POO são:\n",
    "\n",
    "- Classe: É uma definição de um objeto, um tipo de dado que define a estrutura e o comportamento de um objeto. É como um molde que define as características e os comportamentos que os objetos de uma determinada classe devem ter.\n",
    "\n",
    "- Objeto: É uma instância de uma classe, uma representação concreta de um conceito abstrato definido por uma classe. É uma entidade real que pode ser manipulada e que possui características específicas definidas pela sua classe.\n",
    "\n",
    "- Atributos: São as características de um objeto, também conhecidos como propriedades. São as variáveis que armazenam os dados associados a um objeto.\n",
    "\n",
    "- Métodos: São as ações ou comportamentos de um objeto, também conhecidos como funções. São as funções que podem ser executadas em um objeto para realizar ações específicas.\n",
    "\n",
    "- Encapsulamento: É o conceito de esconder os detalhes internos de um objeto e expor apenas uma interface pública para interagir com ele. Isso permite que os objetos protejam seus dados e comportamentos, e também promove a reutilização de código.\n",
    "\n",
    "- Herança: É um mecanismo que permite criar uma nova classe a partir de uma classe existente, herando suas características e comportamentos. A herança permite criar hierarquias de classes, onde as classes filhas herdam os atributos e métodos da classe pai, e podem adicionar ou modificar seu comportamento.\n",
    "\n",
    "- Polimorfismo: É a capacidade de um objeto responder a mensagens de forma diferente, dependendo do seu tipo. Isso permite tratar objetos de diferentes classes de forma uniforme, e promove a flexibilidade e extensibilidade do código.\n",
    "\n",
    "A POO é amplamente utilizada em muitas linguagens de programação populares, como Python, Java, PHP, C++, C#, Ruby, entre outras, e é uma abordagem poderosa para o desenvolvimento de software modular, reutilizável e de fácil manutenção."
   ]
  },
  {
   "cell_type": "markdown",
   "id": "57b8eb80-f0de-4958-8582-14f4b00da12d",
   "metadata": {},
   "source": [
    "<div class=\"alert alert-block alert-warning\">\n",
    "<b>&#9997; EXEMPLO:</b> Vamos criar uma classe chamada <tt>Triangulo</tt> com os atributos <tt>a</tt>, <tt>b</tt> e <tt>c</tt> e um método \"area\". Além disso, utilizaremos o construtor da classe para verificar se o objeto informado é realmente um triângulo.\n",
    "</div>"
   ]
  },
  {
   "cell_type": "markdown",
   "id": "074f9eec-2fca-48f9-9fa1-f6c5a85baee7",
   "metadata": {
    "tags": []
   },
   "source": [
    "> Em programação orientada a objetos, um construtor é um método especial de uma classe que é executado automaticamente quando um objeto dessa classe é criado. O construtor é responsável por inicializar os atributos do objeto, configurar seu estado inicial e realizar outras tarefas de inicialização que se façam necessárias. Em Python, um construtor é uma função chamada de `__init__()` e é definido como um método dentro de uma classe. "
   ]
  },
  {
   "cell_type": "code",
   "execution_count": 4,
   "id": "c30b9e55-6676-4cf4-b2f9-9d0f21cf0e3c",
   "metadata": {},
   "outputs": [],
   "source": [
    "import math \n",
    "\n",
    "class Triangulo:\n",
    "    \n",
    "    def __init__(self, a, b, c):\n",
    "        \"\"\"\n",
    "        Cria um novo objeto baseado nos lados a, b e c do triângulo.\n",
    "        \"\"\"\n",
    "        self.a = float(a)\n",
    "        self.b = float(b)\n",
    "        self.c = float(c)\n",
    "        # verifica se temos realmente um triângulo\n",
    "        if self.a + self.b <= self.c or \\\n",
    "           self.b + self.c <= self.a or \\\n",
    "           self.c + self.a <= self.b:\n",
    "            raise ValueError(\"Os lados informados não formam um triângulo!\")\n",
    "        \n",
    "    def __str__(self):\n",
    "        \"\"\"\n",
    "        Este é um método especial que retorna uma representação \"amigável\" do objeto em formato de string. \n",
    "        \"\"\"\n",
    "        return f\"Δ({self.a}, {self.b}, {self.c})\"\n",
    "    \n",
    "    def area(self) -> float:\n",
    "        \"\"\"\n",
    "        Retorna a área do triângulo usando a fórmula de Khara\n",
    "        \"\"\"\n",
    "        a, b, c = sorted([self.a, self.b, self.c], reverse=True)\n",
    "        return 0.25*math.sqrt((a+(b+c))*(c-(a-b))*(c+(a-b))*(a+(b-c)))\n",
    "\n"
   ]
  },
  {
   "cell_type": "code",
   "execution_count": 5,
   "id": "e93b2b62-a2e9-48f5-bcbe-4725bc125cff",
   "metadata": {},
   "outputs": [],
   "source": [
    "a, b, c = input('Informe os lados do triângulo (separados por vírgula):').split(\",\")"
   ]
  },
  {
   "cell_type": "code",
   "execution_count": 6,
   "id": "c2f1c38c-dafd-43e4-a5f8-434c51703b1a",
   "metadata": {},
   "outputs": [
    {
     "name": "stdout",
     "output_type": "stream",
     "text": [
      "A área do triângulo Δ(3.0, 4.0, 5.0) é igual a 6.0\n"
     ]
    }
   ],
   "source": [
    "# Cria um objeto do tipo triângulo \n",
    "t = Triangulo(a, b, c)    \n",
    "   \n",
    "print('A área do triângulo', t, 'é igual a', round(t.area(), 3))"
   ]
  },
  {
   "cell_type": "markdown",
   "id": "55ffe1e5-aa8b-481e-b51a-628bd7934b3d",
   "metadata": {},
   "source": [
    "## ➥ Tratamento de exceção\n",
    "---"
   ]
  },
  {
   "cell_type": "markdown",
   "id": "b41b4d3b-e346-42c4-b238-be7d1fc6c62e",
   "metadata": {},
   "source": [
    "As exceções são eventos anormais que ocorrem durante a execução de um programa e podem ser causadas por uma série de razões, como erros de sintaxe, erros de tempo de execução, falhas de leitura/escrita de arquivos, erros de acesso à rede, entre outros.\n",
    "\n",
    "O tratamento de exceção permite que um programa detecte e lide com essas exceções de forma controlada, evitando que o programa seja interrompido abruptamente com uma mensagem de erro e permitindo que o programa tome ações adequadas quando ocorrerem exceções. Isso ajuda a melhorar a robustez e confiabilidade do programa, uma vez que é possível lidar com situações inesperadas de forma mais elegante e resiliente.\n",
    "\n",
    "Em Python, o tratamento de exceção é feito usando blocos try e except. A estrutura básica do tratamento de exceção é a seguinte:"
   ]
  },
  {
   "cell_type": "markdown",
   "id": "57935a1a-0253-40cc-8a0e-9cba6dc1a0e5",
   "metadata": {
    "tags": []
   },
   "source": [
    "```python\n",
    "try:\n",
    "    # Bloco de código que pode gerar uma exceção\n",
    "except TipoDeExcecao:\n",
    "    # Bloco de código que é executado quando ocorre a exceção\n",
    "else:\n",
    "    # Bloco de código que é executado quando NÃO ocorre a exceção\n",
    "finally:\n",
    "    # Bloco de código que é executado sempre, independentemente de ocorrer ou não a exceção\n",
    "```"
   ]
  },
  {
   "cell_type": "markdown",
   "id": "9a3dbd01-b37b-4b6e-9027-7c1be2f9028f",
   "metadata": {},
   "source": [
    "Os elementos do tratamento de exceção em Python possuem as seguintes características:\n",
    "\n",
    "- `try`: É o bloco de código onde você coloca o código que pode gerar uma exceção. É nesse bloco que você pode esperar que uma exceção ocorra.\n",
    "\n",
    "- `except`: É o bloco de código que é executado quando ocorre a exceção especificada após o except. Você pode especificar o tipo de exceção que você deseja capturar, como ValueError, TypeError, FileNotFoundError, entre outros.\n",
    "\n",
    "- `else` (opcional): É o bloco de código que é executado quando NÃO ocorre a exceção. É opcional e pode ser omitido, caso não haja ações específicas a serem tomadas quando não há exceções.\n",
    "\n",
    "- `finally` (opcional): É o bloco de código que é executado sempre, independentemente de ocorrer ou não a exceção. É opcional e pode ser omitido, caso não haja ações específicas a serem tomadas sempre.\n",
    "\n",
    "No tratamento de exceção, você pode realizar várias ações, como exibir mensagens de erro personalizadas, registrar erros em logs, tentar uma ação alternativa, entre outros. É importante tratar apenas as exceções que você espera e lidar com elas de forma apropriada para manter a robustez e confiabilidade do seu código."
   ]
  },
  {
   "attachments": {},
   "cell_type": "markdown",
   "id": "0e3dd761",
   "metadata": {},
   "source": [
    "<div class=\"alert alert-block alert-warning\">\n",
    "<b>&#9997; EXEMPLO:</b> Faça o tratamento de exceção do exemplo anterior, isto é, não permita que o script finalize com erro, mas sim mostre uma mensagem de erro amigável na tela.\n",
    "</div>"
   ]
  },
  {
   "cell_type": "code",
   "execution_count": 7,
   "id": "848685b6-6f46-4efc-a43d-8293a3c6fe9d",
   "metadata": {
    "tags": []
   },
   "outputs": [],
   "source": [
    "a, b, c = input('Informe os lados do triângulo (separados por vírgula):').split(\",\")"
   ]
  },
  {
   "cell_type": "code",
   "execution_count": 8,
   "id": "fbc4af4c-eeb1-471f-a2fa-b21fe1f073e2",
   "metadata": {
    "tags": []
   },
   "outputs": [
    {
     "name": "stdout",
     "output_type": "stream",
     "text": [
      "***ERRO: Os lados informados não formam um triângulo!\n"
     ]
    }
   ],
   "source": [
    "# Cria um objeto do tipo triângulo ou exibe uma mensagem de erro\n",
    "try:\n",
    "    t = Triangulo(a, b, c)    \n",
    "except ValueError as err:\n",
    "    print(\"***ERRO:\", err)\n",
    "else:\n",
    "    print('A área do triângulo', t, 'é igual a', t.area())"
   ]
  },
  {
   "cell_type": "markdown",
   "id": "084bbf41-ff6d-4b14-a35d-4cfb5bae5bcf",
   "metadata": {
    "tags": []
   },
   "source": [
    "<div class=\"alert alert-block alert-warning\">\n",
    "<b>&#9997; EXEMPLO:</b> Criar uma classe para simular o movimento de um objeto em queda livre próximo à superfície da Terra, onde a variação da aceleração da gravidade é desprezível.\n",
    "</div>"
   ]
  },
  {
   "cell_type": "code",
   "execution_count": 9,
   "id": "0ba3277e-82ae-40c8-97b1-7cacf4879716",
   "metadata": {
    "tags": []
   },
   "outputs": [],
   "source": [
    "class QuedaLivre:\n",
    "    \"\"\"\n",
    "    Classe para simular o movimento de um objeto em queda livre próximo à superfície da Terra.\n",
    "    Assume um referencial inercial no solo.\n",
    "    \"\"\"\n",
    "    def __init__(self, s0=0, v0=0, g=-10):\n",
    "        self.s0 = float(s0)\n",
    "        self.v0 = float(v0)\n",
    "        self.g = float(g)\n",
    "\n",
    "    def posicao(self, t):\n",
    "        \"\"\"Método para calcular a posição do objeto em queda livre após determinado tempo t.\"\"\"\n",
    "        return self.s0 + self.v0 * t  + 0.5*self.g*t*t# (...complete)\n",
    "    def velocidade(self, t):\n",
    "        \"\"\"Método para calcular a velocidade do objeto em queda livre no instante t.\"\"\"\n",
    "        return # (...complete)"
   ]
  },
  {
   "cell_type": "code",
   "execution_count": 10,
   "id": "31297e47-2870-408d-bb00-906743a1c1d9",
   "metadata": {
    "tags": []
   },
   "outputs": [
    {
     "name": "stdout",
     "output_type": "stream",
     "text": [
      "Posição após 2 segundos: 0.0 m\n",
      "Velocidade após 2 segundos: None m/s\n"
     ]
    }
   ],
   "source": [
    "# Criando um objeto em queda livre com posição inicial de 20m, velocidade inicial de 0m/s e g = 10m/s²\n",
    "queda = QuedaLivre(20)\n",
    "\n",
    "# Calculando a posição do objeto após 1 segundo\n",
    "t = 2\n",
    "pos = queda.posicao(t)\n",
    "print(f\"Posição após {t} segundos: {pos} m\")\n",
    "\n",
    "# Calculando a velocidade do objeto após 3 segundos\n",
    "vel = queda.velocidade(t)\n",
    "print(f\"Velocidade após {t} segundos: {vel} m/s\")"
   ]
  },
  {
   "cell_type": "markdown",
   "id": "f270cdf4",
   "metadata": {},
   "source": [
    "Vamos recordar que podemos utilizar a biblioteca NumPy para operar diretamente em vetores, sem a necessidade de utilizar laços de repetição. Por exemplo, podemos criar um vetor de tempo entre 0 e 10 segundos da seguinte forma:"
   ]
  },
  {
   "cell_type": "code",
   "execution_count": 11,
   "id": "8f9c0a4a",
   "metadata": {},
   "outputs": [
    {
     "name": "stdout",
     "output_type": "stream",
     "text": [
      "[ 0.   0.5  1.   1.5  2.   2.5  3.   3.5  4.   4.5  5.   5.5  6.   6.5\n",
      "  7.   7.5  8.   8.5  9.   9.5 10. ]\n",
      "[  20.     18.75   15.      8.75    0.    -11.25  -25.    -41.25  -60.\n",
      "  -81.25 -105.   -131.25 -160.   -191.25 -225.   -261.25 -300.   -341.25\n",
      " -385.   -431.25 -480.  ]\n"
     ]
    }
   ],
   "source": [
    "import numpy as np \n",
    "\n",
    "dt = 0.5\n",
    "t = np.arange(0, 10+dt, dt)\n",
    "print(t)\n",
    "s = queda.posicao(t)\n",
    "print(s)"
   ]
  },
  {
   "cell_type": "code",
   "execution_count": 21,
   "id": "b1f66a9a",
   "metadata": {},
   "outputs": [
    {
     "data": {
      "image/png": "[encoded data removed]",
      "text/plain": [
       "<Figure size 640x480 with 1 Axes>"
      ]
     },
     "metadata": {},
     "output_type": "display_data"
    },
    {
     "data": {
      "text/html": [
       "<table>\n",
       "<tbody>\n",
       "<tr><td style=\"text-align: right;\"> 0  </td><td style=\"text-align: right;\">  20   </td></tr>\n",
       "<tr><td style=\"text-align: right;\"> 0.5</td><td style=\"text-align: right;\">  18.75</td></tr>\n",
       "<tr><td style=\"text-align: right;\"> 1  </td><td style=\"text-align: right;\">  15   </td></tr>\n",
       "<tr><td style=\"text-align: right;\"> 1.5</td><td style=\"text-align: right;\">   8.75</td></tr>\n",
       "<tr><td style=\"text-align: right;\"> 2  </td><td style=\"text-align: right;\">   0   </td></tr>\n",
       "<tr><td style=\"text-align: right;\"> 2.5</td><td style=\"text-align: right;\"> -11.25</td></tr>\n",
       "<tr><td style=\"text-align: right;\"> 3  </td><td style=\"text-align: right;\"> -25   </td></tr>\n",
       "<tr><td style=\"text-align: right;\"> 3.5</td><td style=\"text-align: right;\"> -41.25</td></tr>\n",
       "<tr><td style=\"text-align: right;\"> 4  </td><td style=\"text-align: right;\"> -60   </td></tr>\n",
       "<tr><td style=\"text-align: right;\"> 4.5</td><td style=\"text-align: right;\"> -81.25</td></tr>\n",
       "<tr><td style=\"text-align: right;\"> 5  </td><td style=\"text-align: right;\">-105   </td></tr>\n",
       "<tr><td style=\"text-align: right;\"> 5.5</td><td style=\"text-align: right;\">-131.25</td></tr>\n",
       "<tr><td style=\"text-align: right;\"> 6  </td><td style=\"text-align: right;\">-160   </td></tr>\n",
       "<tr><td style=\"text-align: right;\"> 6.5</td><td style=\"text-align: right;\">-191.25</td></tr>\n",
       "<tr><td style=\"text-align: right;\"> 7  </td><td style=\"text-align: right;\">-225   </td></tr>\n",
       "<tr><td style=\"text-align: right;\"> 7.5</td><td style=\"text-align: right;\">-261.25</td></tr>\n",
       "<tr><td style=\"text-align: right;\"> 8  </td><td style=\"text-align: right;\">-300   </td></tr>\n",
       "<tr><td style=\"text-align: right;\"> 8.5</td><td style=\"text-align: right;\">-341.25</td></tr>\n",
       "<tr><td style=\"text-align: right;\"> 9  </td><td style=\"text-align: right;\">-385   </td></tr>\n",
       "<tr><td style=\"text-align: right;\"> 9.5</td><td style=\"text-align: right;\">-431.25</td></tr>\n",
       "<tr><td style=\"text-align: right;\">10  </td><td style=\"text-align: right;\">-480   </td></tr>\n",
       "</tbody>\n",
       "</table>"
      ],
      "text/plain": [
       "'<table>\\n<tbody>\\n<tr><td style=\"text-align: right;\"> 0  </td><td style=\"text-align: right;\">  20   </td></tr>\\n<tr><td style=\"text-align: right;\"> 0.5</td><td style=\"text-align: right;\">  18.75</td></tr>\\n<tr><td style=\"text-align: right;\"> 1  </td><td style=\"text-align: right;\">  15   </td></tr>\\n<tr><td style=\"text-align: right;\"> 1.5</td><td style=\"text-align: right;\">   8.75</td></tr>\\n<tr><td style=\"text-align: right;\"> 2  </td><td style=\"text-align: right;\">   0   </td></tr>\\n<tr><td style=\"text-align: right;\"> 2.5</td><td style=\"text-align: right;\"> -11.25</td></tr>\\n<tr><td style=\"text-align: right;\"> 3  </td><td style=\"text-align: right;\"> -25   </td></tr>\\n<tr><td style=\"text-align: right;\"> 3.5</td><td style=\"text-align: right;\"> -41.25</td></tr>\\n<tr><td style=\"text-align: right;\"> 4  </td><td style=\"text-align: right;\"> -60   </td></tr>\\n<tr><td style=\"text-align: right;\"> 4.5</td><td style=\"text-align: right;\"> -81.25</td></tr>\\n<tr><td style=\"text-align: right;\"> 5  </td><td style=\"text-align: right;\">-105   </td></tr>\\n<tr><td style=\"text-align: right;\"> 5.5</td><td style=\"text-align: right;\">-131.25</td></tr>\\n<tr><td style=\"text-align: right;\"> 6  </td><td style=\"text-align: right;\">-160   </td></tr>\\n<tr><td style=\"text-align: right;\"> 6.5</td><td style=\"text-align: right;\">-191.25</td></tr>\\n<tr><td style=\"text-align: right;\"> 7  </td><td style=\"text-align: right;\">-225   </td></tr>\\n<tr><td style=\"text-align: right;\"> 7.5</td><td style=\"text-align: right;\">-261.25</td></tr>\\n<tr><td style=\"text-align: right;\"> 8  </td><td style=\"text-align: right;\">-300   </td></tr>\\n<tr><td style=\"text-align: right;\"> 8.5</td><td style=\"text-align: right;\">-341.25</td></tr>\\n<tr><td style=\"text-align: right;\"> 9  </td><td style=\"text-align: right;\">-385   </td></tr>\\n<tr><td style=\"text-align: right;\"> 9.5</td><td style=\"text-align: right;\">-431.25</td></tr>\\n<tr><td style=\"text-align: right;\">10  </td><td style=\"text-align: right;\">-480   </td></tr>\\n</tbody>\\n</table>'"
      ]
     },
     "metadata": {},
     "output_type": "display_data"
    }
   ],
   "source": [
    "import matplotlib.pyplot as plt\n",
    "import tabulate\n",
    "\n",
    "plt.plot(t, s)\n",
    "plt.show()\n",
    "\n",
    "display(tabulate.tabulate(zip(t,s), tablefmt='html'))"
   ]
  }
 ],
 "metadata": {
  "kernelspec": {
   "display_name": "Python 3 (ipykernel)",
   "language": "python",
   "name": "python3"
  },
  "language_info": {
   "codemirror_mode": {
    "name": "ipython",
    "version": 3
   },
   "file_extension": ".py",
   "mimetype": "text/x-python",
   "name": "python",
   "nbconvert_exporter": "python",
   "pygments_lexer": "ipython3",
   "version": "3.11.5"
  },
  "vscode": {
   "interpreter": {
    "hash": "c6f5971c4b8f55c07f21d358e9303b9e57f31eec2f7748b3e83dfc05726d64d8"
   }
  }
 },
 "nbformat": 4,
 "nbformat_minor": 5
}
