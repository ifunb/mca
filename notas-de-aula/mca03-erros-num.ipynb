{
 "cells": [
  {
   "cell_type": "markdown",
   "metadata": {},
   "source": [
    "<div style=\"width:90%; text-align:center; border-width: 0px; display:block; margin-left:auto; margin-right:auto;\">\n",
    "<div class=\"alert alert-block alert-success\" style=\"text-align:center; color:navy;\">\n",
    "<img src=\"https://raw.githubusercontent.com/bgeneto/MCA/main/imagens/logo_unb.png\" style=\"width: 200px; opacity:0.85;\">\n",
    "<h1>Universidade de Brasília</h1>\n",
    "<h2>Instituto de Física</h2>\n",
    "<hr style=\"width:44%;border:1px solid navy;\">\n",
    "<h3>Métodos Computacionais A (MCA)</h3> \n",
    "<h4>Prof. Bernhard Enders</h4>\n",
    "<hr style=\"width:44%;border:1px solid navy;\">\n",
    "</div>\n",
    "</div>"
   ]
  },
  {
   "cell_type": "markdown",
   "metadata": {
    "id": "mcfrEwo0ruK4"
   },
   "source": [
    "# **➲ Aula 03 - Erros Numéricos**\n",
    "\n",
    "## ➥ Limitações da representação em ponto flutuante\n",
    "---\n",
    "\n",
    "Erros de arredondamento e truncamento são comuns em análise numérica (usando Python ou qualquer outra linguagem de programação), especialmente quando números em ponto flutuante são usados. \n",
    "\n",
    "Tal situação existe devido à limitação da representação binária em ponto flutuante, que estabelece uma quantidade fixa de bits para o expoente, a mantissa e o sinal do número real a ser representado (vide norma* [IEEE 754](https://en.wikipedia.org/wiki/IEEE_754-1985)).\n",
    "\n",
    "><b>*OBSERVAÇÕES:</b>\n",
    ">A norma IEEE 754 é um padrão para representação e aritmética de números em ponto flutuante. Essa norma é amplamente utilizada em computação e define o formato de representação de números de ponto flutuante em sistemas de hardware e software.\n",
    ">\n",
    ">Os principais pontos da norma IEEE 754 são:\n",
    ">\n",
    "> - Existem dois formatos principais para números de ponto flutuante: simples precisão (32 bits) e dupla precisão (64 bits).\n",
    ">\n",
    "> - Os números são representados em notação científica normalizada com mantissa e expoente binários.\n",
    ">\n",
    "> - A precisão de um número de ponto flutuante é determinada pelo número de bits na mantissa, o que afeta o número de dígitos significativos que podem ser armazenados. **(7 dígitos em precisão simples, 14 dígitos com precisão dupla)**\n",
    ">\n",
    "> - A norma define valores especiais para representar números negativos, infinito, NaN (*not a number*) e zero.\n",
    ">\n",
    "> - A aritmética de ponto flutuante segue regras específicas para lidar com valores especiais, estouro de precisão, subfluxo e operações de conversão.\n",
    ">\n",
    "> - A norma também define uma série de funções matemáticas, como seno, cosseno, exponencial e logaritmo, que devem ser implementadas de acordo com padrões específicos.\n",
    ">\n",
    ">A norma IEEE 754 é importante para garantir que os números de ponto flutuante sejam representados e calculados de maneira **consistente** em diferentes sistemas de hardware e software. Isso é essencial para garantir a **interoperabilidade e a portabilidade** de aplicativos que envolvem cálculos numéricos.\n"
   ]
  },
  {
   "cell_type": "markdown",
   "metadata": {},
   "source": [
    "Seguem abaixo alguns exemplos de situações em que esses erros podem ocorrer:\n",
    "\n",
    "1. Comparação de números de ponto flutuante: Devido a erros de arredondamento, duas expressões que deveriam ser iguais podem não ser iguais em um cálculo numérico. Por exemplo:"
   ]
  },
  {
   "cell_type": "code",
   "execution_count": 239,
   "metadata": {},
   "outputs": [
    {
     "name": "stdout",
     "output_type": "stream",
     "text": [
      "False\n"
     ]
    }
   ],
   "source": [
    "x = 0.1 + 0.1 + 0.1\n",
    "y = 0.3\n",
    "print(x == y)  # retorna False"
   ]
  },
  {
   "cell_type": "markdown",
   "metadata": {},
   "source": [
    "Vamos verificar que o mesmo tipo de problema ocorre também usando Fortran:"
   ]
  },
  {
   "cell_type": "code",
   "execution_count": 240,
   "metadata": {},
   "outputs": [
    {
     "name": "stdout",
     "output_type": "stream",
     "text": [
      "Overwriting erro.f90\n"
     ]
    }
   ],
   "source": [
    "%%writefile erro.f90\n",
    "\n",
    "program erro\n",
    "    implicit none\n",
    "    real :: x, y\n",
    "    \n",
    "    x = 0.1 + 0.1 + 0.1 + 0.1 + 0.1 + 0.1 + 0.1\n",
    "    y = 0.7\n",
    "    print*, x == y\n",
    "    \n",
    "end program erro"
   ]
  },
  {
   "cell_type": "code",
   "execution_count": 241,
   "metadata": {},
   "outputs": [
    {
     "name": "stdout",
     "output_type": "stream",
     "text": [
      " F\n"
     ]
    }
   ],
   "source": [
    "%%bash\n",
    "gfortran erro.f90 -o erro.x\n",
    "./erro.x"
   ]
  },
  {
   "cell_type": "markdown",
   "metadata": {},
   "source": [
    "2. Truncamento de números grandes: Números grandes podem ser truncados quando são convertidos para ponto flutuante. Isso pode levar a erros em cálculos que envolvem números grandes. Por exemplo:"
   ]
  },
  {
   "cell_type": "code",
   "execution_count": 242,
   "metadata": {},
   "outputs": [
    {
     "name": "stdout",
     "output_type": "stream",
     "text": [
      "0.0\n"
     ]
    }
   ],
   "source": [
    "x = 10**20 + 1.0\n",
    "y = x - 10**20\n",
    "print(y)  # retorna 0.0 em vez de 1.0"
   ]
  },
  {
   "cell_type": "markdown",
   "metadata": {},
   "source": [
    "O mesmo ocorre em Fortran:"
   ]
  },
  {
   "cell_type": "code",
   "execution_count": 243,
   "metadata": {},
   "outputs": [
    {
     "name": "stdout",
     "output_type": "stream",
     "text": [
      "Overwriting trunca.f90\n"
     ]
    }
   ],
   "source": [
    "%%writefile trunca.f90\n",
    "\n",
    "program trunca\n",
    "    implicit none\n",
    "    real :: x, y\n",
    "    \n",
    "    x = 1e20 + 1.0\n",
    "    y = x - 1e20\n",
    "    print*, y\n",
    "    \n",
    "end program trunca"
   ]
  },
  {
   "cell_type": "code",
   "execution_count": 244,
   "metadata": {},
   "outputs": [
    {
     "name": "stdout",
     "output_type": "stream",
     "text": [
      "   0.00000000    \n"
     ]
    }
   ],
   "source": [
    "%%bash\n",
    "gfortran trunca.f90 -o trunca.x\n",
    "./trunca.x"
   ]
  },
  {
   "cell_type": "markdown",
   "metadata": {},
   "source": [
    "Erros acumulados em operações repetidas: Erros de arredondamento podem se acumular em cálculos que envolvem operações repetidas, especialmente quando números de ponto flutuante não-exatamente representáveis são utilizados. Por exemplo:"
   ]
  },
  {
   "cell_type": "code",
   "execution_count": 245,
   "metadata": {},
   "outputs": [
    {
     "name": "stdout",
     "output_type": "stream",
     "text": [
      "10.09999999999998\n"
     ]
    }
   ],
   "source": [
    "x = 0.1\n",
    "for i in range(100):\n",
    "    x += 0.1\n",
    "\n",
    "print(x)"
   ]
  },
  {
   "cell_type": "markdown",
   "metadata": {},
   "source": [
    "Usando Fortran:"
   ]
  },
  {
   "cell_type": "code",
   "execution_count": 246,
   "metadata": {},
   "outputs": [
    {
     "name": "stdout",
     "output_type": "stream",
     "text": [
      "Overwriting repete.f90\n"
     ]
    }
   ],
   "source": [
    "%%writefile repete.f90\n",
    "\n",
    "program repete\n",
    "    implicit none\n",
    "    integer :: i\n",
    "    double precision :: x\n",
    "    \n",
    "    x = 0.1\n",
    "    do i = 1, 100\n",
    "        x = x + 0.1\n",
    "    end do\n",
    "\n",
    "    print*, x\n",
    "    \n",
    "end program repete"
   ]
  },
  {
   "cell_type": "code",
   "execution_count": 247,
   "metadata": {},
   "outputs": [
    {
     "name": "stdout",
     "output_type": "stream",
     "text": [
      "   10.100000150501728     \n"
     ]
    }
   ],
   "source": [
    "%%bash\n",
    "gfortran repete.f90 -o repete.x\n",
    "./repete.x"
   ]
  },
  {
   "cell_type": "markdown",
   "metadata": {},
   "source": [
    "## ➥ Evitando erros numéricos com Python\n",
    "---"
   ]
  },
  {
   "cell_type": "markdown",
   "metadata": {},
   "source": [
    "Em geral, não devemos comparar números em ponto flutuante usando o operador de igualdade `==` , mas sim a função `isclose()` da biblioteca padrão **`math`**:"
   ]
  },
  {
   "cell_type": "code",
   "execution_count": 248,
   "metadata": {},
   "outputs": [
    {
     "data": {
      "text/plain": [
       "True"
      ]
     },
     "execution_count": 248,
     "metadata": {},
     "output_type": "execute_result"
    }
   ],
   "source": [
    "import math\n",
    "\n",
    "x = 0.1 + 0.1 + 0.1\n",
    "y = 0.3\n",
    "\n",
    "math.isclose(x, y) "
   ]
  },
  {
   "cell_type": "markdown",
   "metadata": {},
   "source": [
    "Se você estiver trabalhando com matrizes numéricas em Python, a biblioteca NumPy inclui a função `isclose()` que pode ser usada para comparar elementos de matrizes em ponto flutuante com uma margem de tolerância especificada. Por exemplo, `numpy.isclose(x, y, rtol=1e-9, atol=0.0)` verifica se os elementos de x e y são aproximadamente iguais com uma precisão relativa de 1e-9 e uma tolerância absoluta de 0.0."
   ]
  },
  {
   "cell_type": "markdown",
   "metadata": {},
   "source": [
    "Em relação ao problema de truncamento, devemos procurar realizar as operações em uma ordem mais adequada para a máquina ou utilizar uma biblioteca de maior precisão ou precisão arbitrária:"
   ]
  },
  {
   "cell_type": "code",
   "execution_count": 249,
   "metadata": {},
   "outputs": [
    {
     "data": {
      "text/plain": [
       "Context(prec=64, rounding=ROUND_HALF_EVEN, Emin=-999999, Emax=999999, capitals=1, clamp=0, flags=[FloatOperation], traps=[InvalidOperation, DivisionByZero, Overflow])"
      ]
     },
     "execution_count": 249,
     "metadata": {},
     "output_type": "execute_result"
    }
   ],
   "source": [
    "from decimal import *\n",
    "getcontext()"
   ]
  },
  {
   "cell_type": "code",
   "execution_count": 250,
   "metadata": {},
   "outputs": [
    {
     "name": "stdout",
     "output_type": "stream",
     "text": [
      "1\n"
     ]
    }
   ],
   "source": [
    "x = Decimal(10**20 + 1)\n",
    "y = Decimal(x - 10**20)\n",
    "print(y)"
   ]
  },
  {
   "cell_type": "code",
   "execution_count": 251,
   "metadata": {},
   "outputs": [
    {
     "name": "stdout",
     "output_type": "stream",
     "text": [
      "10.1000000000000005606626274357040529139339923858642578125\n"
     ]
    }
   ],
   "source": [
    "getcontext().prec = 64\n",
    "x = Decimal(0.1)\n",
    "for i in range(100):\n",
    "    x += Decimal(0.1)\n",
    "\n",
    "print(x)"
   ]
  },
  {
   "cell_type": "markdown",
   "metadata": {},
   "source": [
    "Também podemos utilizar a biblioteca **`mpmath`**, mas antes precisamos instalar a biblioteca usando os comandos `pip` ou `conda`:"
   ]
  },
  {
   "cell_type": "code",
   "execution_count": 252,
   "metadata": {},
   "outputs": [
    {
     "name": "stdout",
     "output_type": "stream",
     "text": [
      "Requirement already satisfied: mpmath in /home/bgeneto/miniconda3/envs/mca/lib/python3.10/site-packages (1.3.0)\n"
     ]
    }
   ],
   "source": [
    "# instalando a biblioteca de múltipla precisão\n",
    "import sys\n",
    "!{sys.executable} -m pip install mpmath"
   ]
  },
  {
   "cell_type": "code",
   "execution_count": 253,
   "metadata": {},
   "outputs": [
    {
     "name": "stdout",
     "output_type": "stream",
     "text": [
      "Mpmath settings:\n",
      "  mp.prec = 336               [default: 53]\n",
      "  mp.dps = 100                [default: 15]\n",
      "  mp.trap_complex = False     [default: False]\n"
     ]
    }
   ],
   "source": [
    "# importando a biblioteca e mostrando as configurações padrão\n",
    "from mpmath import *\n",
    "print(mp)"
   ]
  },
  {
   "cell_type": "code",
   "execution_count": 254,
   "metadata": {},
   "outputs": [
    {
     "data": {
      "text/plain": [
       "336"
      ]
     },
     "execution_count": 254,
     "metadata": {},
     "output_type": "execute_result"
    }
   ],
   "source": [
    "# aumentando o número de precisão das casas de decimais \n",
    "mp.dps = 100\n",
    "mp.prec  # mostra o número de bits necessários"
   ]
  },
  {
   "cell_type": "code",
   "execution_count": 255,
   "metadata": {},
   "outputs": [
    {
     "name": "stdout",
     "output_type": "stream",
     "text": [
      "10.1000000000000005606626274357040529139339923858642578125\n"
     ]
    }
   ],
   "source": [
    "x = mpf(0.1)\n",
    "for i in range(100):\n",
    "    x += mpf(0.1)\n",
    "\n",
    "print(x)"
   ]
  },
  {
   "cell_type": "markdown",
   "metadata": {},
   "source": [
    "## ➥ Erros numéricos na prática\n",
    "---\n",
    "\n",
    "Vamos exemplificar a problemática trazida pelos erros numéricos em um problema prático. "
   ]
  },
  {
   "cell_type": "markdown",
   "metadata": {},
   "source": [
    "<div class=\"alert alert-block alert-info\">\n",
    "<b>&#9997; Exemplo:</b> Escreva um programa que calcule a área de um triângulo qualquer dados os seus lados.\n",
    "</div>"
   ]
  },
  {
   "cell_type": "markdown",
   "metadata": {},
   "source": [
    "Para tanto, vamos utilizar a [Fórmula de Herão](https://pt.wikipedia.org/wiki/Teorema_de_Her%C3%A3o) de Alexandria, a qual computa a área baseada apenas nos lados a, b e c do triângulo (e em seu semiperímetro):\n",
    "\n",
    "![triangulo-abc](https://raw.githubusercontent.com/bgeneto/MCA/main/imagens/triangulo-abc.png)\n",
    "\n",
    "$$\n",
    "A = \\sqrt{p(p-a)(p-b)(p-c)}\n",
    "$$\n",
    "\n"
   ]
  },
  {
   "cell_type": "code",
   "execution_count": 256,
   "metadata": {},
   "outputs": [],
   "source": [
    "def area_triangulo(a, b, c):\n",
    "    '''\n",
    "    Utiliza a fórmula de Herão para calcular a área de um triângulo\n",
    "    dados os seus lados.\n",
    "    ''' \n",
    "    s = 0.5*(a + b + c)\n",
    "    return math.sqrt(s*(s-a)*(s-b)*(s-c))\n",
    "\n",
    "\n",
    "def area_triangulo_retangulo(b, h):\n",
    "    '''\n",
    "    Utiliza a fórmula tradicional para calcular a área de um triângulo\n",
    "    retângulo.\n",
    "    ''' \n",
    "    return 0.5*b*h"
   ]
  },
  {
   "cell_type": "code",
   "execution_count": 257,
   "metadata": {},
   "outputs": [
    {
     "data": {
      "text/plain": [
       "6.0"
      ]
     },
     "execution_count": 257,
     "metadata": {},
     "output_type": "execute_result"
    }
   ],
   "source": [
    "# área do triângulo retângulo de lados: 3, 4 e 5\n",
    "area_triangulo(3, 4, 5)"
   ]
  },
  {
   "cell_type": "code",
   "execution_count": 258,
   "metadata": {},
   "outputs": [
    {
     "data": {
      "text/plain": [
       "6.0"
      ]
     },
     "execution_count": 258,
     "metadata": {},
     "output_type": "execute_result"
    }
   ],
   "source": [
    "# vamos comparar com a fórmula tracional p/ um triângulo retângulo\n",
    "area_triangulo_retangulo(4, 3)"
   ]
  },
  {
   "cell_type": "markdown",
   "metadata": {},
   "source": [
    "Vamos calcular agora a área dos seguintes triângulos:\n",
    "\n",
    "| a           | b           | c           |\n",
    "| ----------- | ----------- | ----------- |\n",
    "| 100000      | 99999.99979 | 0.00029     |\n",
    "| 100000      | 100000      | 1.00005     |\n",
    "| 99999.99996 | 99999.99994 | 0.00003     |\n",
    "| 31622.77662 | 0.000023    | 31622.77661 |\n"
   ]
  },
  {
   "cell_type": "code",
   "execution_count": 259,
   "metadata": {},
   "outputs": [],
   "source": [
    "areas = []\n",
    "a = area_triangulo(100000, 99999.99979, 0.00029)\n",
    "areas.append(a)"
   ]
  },
  {
   "cell_type": "code",
   "execution_count": 260,
   "metadata": {},
   "outputs": [],
   "source": [
    "a = area_triangulo(100000, 100000, 1.00005)\n",
    "areas.append(a)"
   ]
  },
  {
   "cell_type": "code",
   "execution_count": 261,
   "metadata": {},
   "outputs": [],
   "source": [
    "a = area_triangulo(99999.99996, 99999.99994, 0.00003)\n",
    "areas.append(a)"
   ]
  },
  {
   "cell_type": "code",
   "execution_count": 262,
   "metadata": {},
   "outputs": [
    {
     "data": {
      "text/plain": [
       "[9.999999809638329, 50002.49999949365, 1.1180333905130204, 0.3274905327782571]"
      ]
     },
     "execution_count": 262,
     "metadata": {},
     "output_type": "execute_result"
    }
   ],
   "source": [
    "a = area_triangulo(31622.77662, 0.000023, 31622.77661)\n",
    "areas.append(a)\n",
    "areas"
   ]
  },
  {
   "cell_type": "markdown",
   "metadata": {},
   "source": [
    "É possível confiar nesses resultados? Será que esses resultados estão corretos? Se estão corretos, até quantas casas depois da vírgula? Existe algum método numericamente mais preciso e estável? Sim, existe, graças a W. Kahan:"
   ]
  },
  {
   "cell_type": "code",
   "execution_count": 263,
   "metadata": {},
   "outputs": [],
   "source": [
    "    def area_triangulo_kahan(a, b, c):\n",
    "        '''\n",
    "        Utiliza a fórmula de W. Kahan (mais precisa que a fórmula de Herão)\n",
    "        para calcular a área de um triângulo qualquer (dados os lados).\n",
    "        '''\n",
    "        # precisamos garantir a seguinte ordenação para os lados: a ≥ b ≥ c\n",
    "        a, b, c = sorted([a, b, c], reverse=True)\n",
    "        \n",
    "        # atenção: não remova nenhum parênteses!\n",
    "        return 0.25 * math.sqrt((a + (b + c)) * (c - (a - b)) * (c + (a - b)) * (a + (b - c)))\n"
   ]
  },
  {
   "cell_type": "code",
   "execution_count": 264,
   "metadata": {},
   "outputs": [],
   "source": [
    "areas_kahan = []\n",
    "a = area_triangulo_kahan(100000, 99999.99979, 0.00029)\n",
    "areas_kahan.append(a)"
   ]
  },
  {
   "cell_type": "code",
   "execution_count": 265,
   "metadata": {},
   "outputs": [],
   "source": [
    "a = area_triangulo_kahan(100000, 100000, 1.00005)\n",
    "areas_kahan.append(a)"
   ]
  },
  {
   "cell_type": "code",
   "execution_count": 266,
   "metadata": {},
   "outputs": [],
   "source": [
    "a = area_triangulo_kahan(99999.99996, 99999.99994, 0.00003)\n",
    "areas_kahan.append(a)"
   ]
  },
  {
   "cell_type": "code",
   "execution_count": 267,
   "metadata": {},
   "outputs": [
    {
     "data": {
      "text/plain": [
       "[10.000000077021038,\n",
       " 50002.499999374915,\n",
       " 1.1180336853952004,\n",
       " 0.3274904599426237]"
      ]
     },
     "execution_count": 267,
     "metadata": {},
     "output_type": "execute_result"
    }
   ],
   "source": [
    "a = area_triangulo_kahan(31622.77662, 0.000023, 31622.77661)\n",
    "areas_kahan.append(a)\n",
    "areas_kahan"
   ]
  },
  {
   "cell_type": "code",
   "execution_count": 268,
   "metadata": {},
   "outputs": [
    {
     "data": {
      "text/plain": [
       "array([-2.67382710e-07,  1.18736352e-07, -2.94882180e-07,  7.28356334e-08])"
      ]
     },
     "execution_count": 268,
     "metadata": {},
     "output_type": "execute_result"
    }
   ],
   "source": [
    "# calcula o erro absoluto da fórmula de Heron\n",
    "import numpy as np\n",
    "np.array(areas) - np.array(areas_kahan)"
   ]
  },
  {
   "cell_type": "code",
   "execution_count": null,
   "metadata": {},
   "outputs": [],
   "source": []
  }
 ],
 "metadata": {
  "colab": {
   "provenance": []
  },
  "kernelspec": {
   "display_name": "Python 3 (ipykernel)",
   "language": "python",
   "name": "python3"
  },
  "language_info": {
   "codemirror_mode": {
    "name": "ipython",
    "version": 3
   },
   "file_extension": ".py",
   "mimetype": "text/x-python",
   "name": "python",
   "nbconvert_exporter": "python",
   "pygments_lexer": "ipython3",
   "version": "3.10.10"
  }
 },
 "nbformat": 4,
 "nbformat_minor": 4
}
