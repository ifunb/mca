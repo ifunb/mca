{
 "cells": [
  {
   "attachments": {},
   "cell_type": "markdown",
   "metadata": {
    "id": "c8ca80e5-5cf2-48fa-a048-b10764f133c3"
   },
   "source": [
    "<div style=\"width:90%; text-align:center; border-width: 0px; display:block; margin-left:auto; margin-right:auto;\">\n",
    "<div class=\"alert alert-block alert-success\" style=\"text-align:center; color:navy;\">\n",
    "<img src=\"https://raw.githubusercontent.com/bgeneto/MCA/main/imagens/logo_unb.png\" style=\"width: 200px; opacity:0.85;\">\n",
    "<h1>Universidade de Brasília</h1>\n",
    "<h2>Instituto de Física</h2>\n",
    "<hr style=\"width:44%;border:1px solid navy;\">\n",
    "<h3>Métodos Computacionais A (MCA)</h3> \n",
    "<h4>Prof. Bernhard Enders</h4>\n",
    "<hr style=\"width:44%;border:1px solid navy;\">\n",
    "</div>\n",
    "</div>"
   ]
  },
  {
   "attachments": {},
   "cell_type": "markdown",
   "metadata": {
    "id": "060dc954-dbfb-4c68-99b7-35fa98d15b76"
   },
   "source": [
    "# **➲ Aula 09 - Integração Numérica**\n",
    "\n",
    "## ➥ O problema da integração analítica\n",
    "---\n",
    "\n",
    "A integral definida, para uma função contínua $f$ em um  intervalo [a,b], é dada por:\n",
    "\n",
    "$$\n",
    "\\int_a^b f(x)\\,\\text{d}x = F(b) - F(a),\n",
    "$$\n",
    "\n",
    "na qual\n",
    "\n",
    "$$\n",
    "f(x) = \\frac{\\text{d}F(x)}{\\text{d}x}. \n",
    "$$\n",
    "\n",
    "O grande problema desse procedimento é que precisamos obter uma forma analítica para a antiderivada/primitiva $F(x)$ e muitas vezes isso não é uma tarefa fácil e algumas vezes até mesmo impossível. \n",
    "\n",
    "Se ao invés de obter uma solução exata (forma analítica) buscarmos valores aproximados de $F(x)$, então teremos um problema relativamente fácil de resolver, chamado de **integração numérica**.\n"
   ]
  },
  {
   "attachments": {},
   "cell_type": "markdown",
   "metadata": {
    "id": "B1vgyzMLVUUk"
   },
   "source": [
    "## Somas de Riemann e integração numérica\n",
    "---\n",
    "\n",
    "A integral definida de uma função contínua $f$ sobre o intervalo [a,b], expressa por $\\int_a^b f(x)\\text{d}x$, também pode ser definida como o limite de uma soma de Riemann quando o número de subdivisões se aproxima do infinito. Ou seja,\n",
    "\n",
    "$$\n",
    "I = \\int_a^b f(x)\\,\\text{d}x = \\lim_{n\\to∞}\\sum_{i=1}^n f(x_i^*)(x_i - x_{i-1})\n",
    "$$\n",
    "\n",
    "na qual $n$ é o número de subintervalos/subdivisões e os pontos (de integração) $x_i^*$ podem ser escolhidos de diversas formas, desde que $x_{i-1}\\leq x_{i}^{*} \\leq x_{i}$.\n",
    "\n",
    "Chamamos a quantidade $(x_i - x_{i-1})$ de **passo da malha**, que é geralmente representado por $\\Delta x$ ou $h$. Assim, temos que\n",
    "\n",
    "$$\n",
    "\\begin{align*}\n",
    "\\Delta x &= x_i - x_{i-1} \\\\\n",
    "&= \\frac{b-a}{n}.\n",
    "\\end{align*}\n",
    "$$\n",
    "\n",
    "De modo que \n",
    "\n",
    "$$\n",
    "I = \\lim_{n\\to∞}\\sum_{i=1}^n f(x_i^*)\\Delta x.\n",
    "$$\n",
    "\n",
    "### Tipos de somas de Riemann\n",
    "\n",
    "Escolhas específicas do conjunto de pontos $x_{i}^{*}$ nos dão diferentes tipos de soma de Riemann:\n",
    "\n",
    "- Soma de Riemann à **esquerda**: Se $x_{i}^{*}=x_{i-1}$, $∀i ∈ \\{0,\\ldots,n-1\\}$;\n",
    "- Soma de Riemann à **direita**: Se $x_{i}^{*}=x_{i}$, $∀i ∈ \\{1,\\ldots,n\\}$;\n",
    "- Soma de Riemann **média**: Se $x_{i}^{*}=\\frac{1}{2}(x_{i-1}+x_{i})$, $∀i ∈ \\{0,\\ldots,n\\}$;\n",
    "- Soma de Riemann **trapezoidal**: corresponde à média aritmética entre a soma à esquerda e a soma à direita.\n",
    "- Soma de Riemann **superior**: $x_{i}^{*}$ é escolhido tal que $f(x_i^*) = \\max(f(x_{i-1}), f(x_{i}))$\n",
    "- Soma de Riemann **inferior**: $x_{i}^{*}$ é escolhido tal que $f(x_i^*) = \\min(f(x_{i-1}), f(x_{i}))$\n",
    "\n",
    "**NOTA 1**: Qualquer soma de Riemann em dada partição — isto é, qualquer soma obtida pela escolha de $x_{i}^{*}$ entre $\\displaystyle x_{i-1}$ e $\\displaystyle x_{i}$ —  está compreendida entre os valores obtidos pelas somas de Riemann superior e inferior. \n",
    "\n",
    "**NOTA 2**: Uma função é definida como integrável por Riemann se as somas inferior e superior forem se aproximando conforme a partição se afina. Este fato pode ser também usado para a integração numérica.\n",
    "\n",
    "<div style=\"margin:auto; text-align:center; width:75%;\">\n",
    "  <center>\n",
    "  <img src=\"https://upload.wikimedia.org/wikipedia/commons/2/2a/Riemann_sum_convergence.png\" width=\"500\" align=\"center\"/>\n",
    "  <p style=\"text-align:center; font-style:italic;\">\n",
    "    Representação gráfica dos diversos tipos de somas de Riemann.\n",
    "  </p> \n",
    "  </center>\n",
    "</div>\n"
   ]
  },
  {
   "attachments": {},
   "cell_type": "markdown",
   "metadata": {
    "id": "U1xuX8jXee3x"
   },
   "source": [
    "## Soma de Riemann à esquerda\n",
    "---\n",
    "\n",
    "Na soma de Riemann à esquerda, aproxima-se a função pelo seu valor no ponto final à esquerda, dando múltiplos retângulos com base $Δx ≡ h$ e altura $f(x_i)$. Tomando  $i = 0, 1, ... n-1$ e adicionando as áreas, temos então a seguinte aproximação para a integral definida.\n",
    "\n",
    "$$\n",
    "I_\\text{esq} ≈ h[f(a)+f(a+h)+f(a+2h)+...+f(b-h)].\n",
    "$$\n",
    "\n",
    "Note que $x_0=a, x_1 = a+h, x_2=a+2h,\\ldots$, de modo que podemos construir todos os pontos da malha com a seguinte relação de recorrência:\n",
    "\n",
    "$$\n",
    "x_i = a + ih, \\forall i \\in \\{ 0,1,\\ldots,n-1\\}\n",
    "$$\n",
    "\n",
    "<br>\n",
    "<div style=\"margin:auto; text-align:center; width:75%;\">\n",
    "  <center>\n",
    "  <img src=\"https://upload.wikimedia.org/wikipedia/commons/1/19/Riemann_sum_%28leftbox%29.gif\" align=\"center\"/>\n",
    "  <p style=\"text-align:center; font-style:italic;\">\n",
    "    Animação da soma de Riemann à esquerda para valores crescentes de $n$.\n",
    "  </p> \n",
    "  </center>\n",
    "  <!--https://upload.wikimedia.org/wikipedia/commons/c/c9/LeftRiemann2.svg-->\n",
    "</div>\n",
    "\n",
    "\n",
    "A soma de Riemann à esquerda resulta em uma superestimação se $f$ está monotonicamente decrescendo nesse intervalo, e em uma subestimação se $f$ está monotonicamente crescendo.\n"
   ]
  },
  {
   "attachments": {},
   "cell_type": "markdown",
   "metadata": {
    "id": "A3iH6819qX8o"
   },
   "source": [
    "## Soma de Riemann à direita\n",
    "---\n",
    "\n",
    "Nessa soma, aproxima-se $f$ de seu valor no ponto à direita de cada subintervalo. São gerados, então, múltiplos retângulos de base $h$ e altura $f(a + ih)$. Tomando para $i = 1,2,...,n$ e adicionando as áreas resultantes se produz\n",
    "\n",
    "$$\n",
    "\\begin{align*}\n",
    "I_\\text{dir} &≈ h\\left[f(a+h)+f(a+2h)+...+f(b)\\right]\\\\\n",
    "  &≈ h\\left[f(x_1)+f(x_2)+...+f(x_n)\\right].\\\\\n",
    "\\end{align*}\n",
    "$$\n",
    "\n",
    "<br>\n",
    "<div style=\"margin:auto; text-align:center; width:75%;\">\n",
    "  <center>\n",
    "  <img src=\"https://upload.wikimedia.org/wikipedia/commons/6/61/Riemann_sum_%28rightbox%29.gif\" align=\"center\"/>\n",
    "  <p style=\"text-align:center; font-style:italic;\">\n",
    "    Animação da soma de Riemann à direita para valores crescentes de $n$.\n",
    "  </p> \n",
    "  </center>\n",
    "  <!--https://upload.wikimedia.org/wikipedia/commons/4/45/RightRiemann2.svg-->\n",
    "</div>\n",
    "\n",
    "A soma de Riemann à direita resulta em uma subestimação se $f$ está monotonicamente decrescendo, e uma superestimação se $f$ está monotonicamente crescendo. "
   ]
  },
  {
   "attachments": {},
   "cell_type": "markdown",
   "metadata": {
    "id": "jxejUEZgrnAi"
   },
   "source": [
    "## Soma de Riemann média\n",
    "---\n",
    "Aqui, aproximamos $f$ no ponto médio dos intervalos,  expressamos $f(a+h/2)$ para o primeiro intervalo, para o próximo temos $f(a+3h/2)$ e assim por diante, até $f(b-h/2)$. Somando as áreas temos\n",
    "\n",
    "$$\n",
    "I_\\text{med} ≈ {\\displaystyle h\\left[f(a+{\\frac {h}{2}})+f(a+{\\frac {3h}{2}})+...+f(b-{\\frac {h}{2}})\\right].}\n",
    "$$\n",
    "\n",
    "Este esquema é equivalente ao método de integração numérica chamado de **Método do Ponto Médio**, que corresponde à soma de áreas de retângulos de bases iguais a $h$ e alturas $f(\\bar x_i)$, com $\\bar x_i = \\frac{1}{2}(x_{i-1}+x_i)$.\n",
    "\n",
    "<br>\n",
    "<div style=\"margin:auto; text-align:center; width:75%;\">\n",
    "  <center>\n",
    "  <img src=\"https://upload.wikimedia.org/wikipedia/commons/c/c3/Riemann_sum_%28middlebox%29.gif\" align=\"center\"/>\n",
    "  <p style=\"text-align:center; font-style:italic;\">\n",
    "    Animação da soma de Riemann média para valores crescentes de $n$.\n",
    "  </p> \n",
    "  </center>\n",
    "  <!--https://upload.wikimedia.org/wikipedia/commons/d/d2/MidRiemann2.svg-->\n",
    "</div>\n",
    "\n",
    "\n"
   ]
  },
  {
   "attachments": {},
   "cell_type": "markdown",
   "metadata": {
    "id": "YuhPY32xt884",
    "jp-MarkdownHeadingCollapsed": true,
    "tags": []
   },
   "source": [
    "## Soma de Riemann trapezoidal\n",
    "---\n",
    "\n",
    "Nesse caso, os valores da função $f$ no intervalo são aproximados pela média aritmética dos valores finais das somas de Riemann à direita e à esquerda. Dessa mesma maneira, temos que \n",
    "\n",
    "$$\n",
    "I_\\text{trap} = \\frac{1}{2}(I_\\text{esq} + I_\\text{dir}),\n",
    "$$\n",
    "\n",
    "o que resulta em:\n",
    "\n",
    "$$\n",
    "\\begin{align*}\n",
    "I_\\text{trap} &≈ \\frac{1}{2}\\left\\{h[f(a)+f(a+h)+f(a+2h)+...+f(b-h)] + h[f(a+h)+f(a+2h)+...+f(b)]\\right\\}\\\\\n",
    "&≈ \\frac{h}{2}\\left[f(a)+2f(a+h)+2f(a+2h)+...+2f(b-h)+f(b)\\right] \n",
    "\\end{align*}\n",
    "$$\n",
    "\n",
    "Como $x_i = a + ih,\\ \\forall i \\in \\{0,1,\\ldots,n\\}$, reescrevemos:\n",
    "\n",
    "$$\n",
    "\\begin{align*}\n",
    "I_\\text{trap} &≈ \\frac{h}{2}\\left[f(x_0)+2f(x_1)+2f(x_2)+...+2f(x_{n-1})+f(x_n)\\right]\\\\\n",
    "  &≈ \\frac{h}{2}\\left[f(a) + 2\\sum_{i=1}^{n-1}f(x_i) + f(b)\\right].\n",
    "\\end{align*}\n",
    "$$\n",
    "\n",
    "<div class=\"alert alert-block alert-info\"> \n",
    "  <b>💡NOTA:</b> Esta fórmula coincide com a chamada regra do trapézio para integração numérica, na qual utiliza-se um polinômio interpolador de Lagrange de primeiro grau (uma reta) para aproximar os valores de $f(x_i)$ em cada intervalo $[x_{i-1},x_i]$.  \n",
    "</div>\n",
    "\n",
    "<br>\n",
    "<div style=\"margin:auto; text-align:center; width:75%; background-color:white\">\n",
    "  <center>\n",
    "  <img src=\"https://raw.githubusercontent.com/bgeneto/MCA/main/imagens/TrapezoidalIntegration.gif\" align=\"center\"/>\n",
    "  <p style=\"text-align:center; font-style:italic;\">\n",
    "    Animação de uma soma de Riemann trapezoidal.\n",
    "  </p> \n",
    "  </center>\n",
    "</div>"
   ]
  },
  {
   "attachments": {},
   "cell_type": "markdown",
   "metadata": {
    "id": "O0mUrz6K-mk0"
   },
   "source": [
    "## Implementações e testes em Python\n",
    "Para testar nossa implementação vamos utilizar uma integral definida simples e bem conhecida:\n",
    "\n",
    "$$\n",
    "I = \\int_0^{π/2} \\text{sen}(x) \\, \\text{d}x = 1\n",
    "$$\n",
    "\n",
    "Note — veja figura abaixo — que esta função é monótona crescente no intervalo [0,1]. Assim, esperamos uma subestimação do valor da integral para a soma de Riemann à esquerda e uma superestimação para a soma de Riemann à direita."
   ]
  },
  {
   "cell_type": "code",
   "execution_count": 32,
   "metadata": {
    "colab": {
     "base_uri": "https://localhost:8080/",
     "height": 281
    },
    "id": "79bQvG_UQLvz",
    "outputId": "ac244980-724e-4274-997e-0840e4a6c837",
    "tags": [
     "\"hide-input\"",
     "remove_cell",
     "hide-input"
    ]
   },
   "outputs": [
    {
     "data": {
      "image/png": "[encoded data removed]",
      "text/plain": [
       "<Figure size 800x400 with 1 Axes>"
      ]
     },
     "metadata": {},
     "output_type": "display_data"
    }
   ],
   "source": [
    "import math\n",
    "import matplotlib.pyplot as plt\n",
    "import numpy as np\n",
    "\n",
    "x = np.linspace(0, math.pi/2, 100)\n",
    "y = np.sin(x)\n",
    "\n",
    "plt.figure(figsize=(8, 4), dpi=100)\n",
    "plt.fill_between(x, y, step=\"pre\", alpha=0.4)\n",
    "plt.title('f(x) = sen (x), ∀x ∈ {0,...,π/2}')\n",
    "plt.plot(x, y)\n",
    "plt.show()\n"
   ]
  },
  {
   "attachments": {},
   "cell_type": "markdown",
   "metadata": {
    "id": "46GV7ZYNSHKy"
   },
   "source": [
    "Vamos fixar nossa função teste, o intervalo de integração para todos os casos:"
   ]
  },
  {
   "cell_type": "code",
   "execution_count": 33,
   "metadata": {
    "id": "Dh9IpK38SOob"
   },
   "outputs": [],
   "source": [
    "# nossa função teste\n",
    "def f(x): return math.sin(x)\n",
    "\n",
    "\n",
    "# intervalo\n",
    "a, b = 0, 0.5*math.pi\n"
   ]
  },
  {
   "attachments": {},
   "cell_type": "markdown",
   "metadata": {},
   "source": [
    "Vamos utilizar a seguinte função auxiliar para mostrar os resultados obtidos pelos diferentes métodos juntamente com os seus erros e taxa de convergência em função de $n$ (ou $h$):"
   ]
  },
  {
   "cell_type": "code",
   "execution_count": 34,
   "metadata": {},
   "outputs": [],
   "source": [
    "import pandas as pd\n",
    "\n",
    "\n",
    "def resultados(metodo, funcao, intervalo, valor_exato):\n",
    "    '''função auxiliar para mostrar os resultados obtidos \n",
    "        pelos diferentes métodos juntamente com os seus erros \n",
    "        e taxa de convergência.\n",
    "    '''\n",
    "    # pontos extremos do intervalo de integração\n",
    "    a, b = intervalo\n",
    "\n",
    "    # número de subintervalos variável de 4 (2^2) a 256 (2^8)\n",
    "    ns = [2**i for i in range(2, 9)]\n",
    "\n",
    "    lst = []\n",
    "    for n in ns:\n",
    "        # solução aproximada\n",
    "        aprox = metodo(funcao, a, b, n)\n",
    "\n",
    "        # erro absoluto\n",
    "        erro = valor_exato - aprox\n",
    "\n",
    "        # erro percentual\n",
    "        erro_perc = 100*abs(erro)/valor_exato\n",
    "\n",
    "        # agrega tudo em uma lista para exibir em uma tabela (dataframe)\n",
    "        lst.append([aprox, erro, erro_perc])\n",
    "\n",
    "    # exibe uma tabela com os resultados\n",
    "    df = pd.DataFrame(data=lst, columns=[\n",
    "                      'aproximado', 'erro', 'percentual'], index=ns)\n",
    "    df['dif_erro'] = df.erro.shift()/df.erro\n",
    "    display(df)\n",
    "    print(\n",
    "        f'Tabela: erro e taxa de convergência do método \"{metodo.__name__}\" para diversos valores de n.')\n"
   ]
  },
  {
   "attachments": {},
   "cell_type": "markdown",
   "metadata": {
    "id": "dBk_b4DGQPuD"
   },
   "source": [
    "\n",
    "Agora estamos prontos para realizar algumas implementações ingênuas das somas de Riemann utilizadas para aproximar a integral definida de uma função $f$ no intervalo $[a,b]$ contendo $n$ subintervalos. O teste/validação de cada implementação é feito na sequência de cada definição/função."
   ]
  },
  {
   "cell_type": "code",
   "execution_count": 35,
   "metadata": {
    "id": "Pq9ljgDQv-9O"
   },
   "outputs": [],
   "source": [
    "def riemann_esq(f, a, b, n):\n",
    "    \"\"\"Aproximação do valor da integral definida de uma função f \n",
    "       no intervalo [a,b] utilizando o método da soma de Riemann \n",
    "       à esquerda.\n",
    "\n",
    "    Args:\n",
    "      f (callable): função a ser integrada.\n",
    "      a (float): início do intervalo de integração.\n",
    "      b (float): fim do intervalo de integração.\n",
    "      n (int): número de subintervalos utilizados na soma.\n",
    "\n",
    "    Returns:\n",
    "      float: valor da soma/integral.\n",
    "    \"\"\"\n",
    "    h = (b - a)/n\n",
    "    soma = 0.0\n",
    "    for i in range(0, n):\n",
    "        xi = a + i*h\n",
    "        soma = soma + f(xi)\n",
    "\n",
    "    return h*soma\n"
   ]
  },
  {
   "cell_type": "code",
   "execution_count": 36,
   "metadata": {
    "colab": {
     "base_uri": "https://localhost:8080/"
    },
    "id": "matpRcu6RP5n",
    "outputId": "d13a8a74-b05f-43c6-87f6-22e78134610f"
   },
   "outputs": [
    {
     "data": {
      "text/html": [
       "<div>\n",
       "<style scoped>\n",
       "    .dataframe tbody tr th:only-of-type {\n",
       "        vertical-align: middle;\n",
       "    }\n",
       "\n",
       "    .dataframe tbody tr th {\n",
       "        vertical-align: top;\n",
       "    }\n",
       "\n",
       "    .dataframe thead th {\n",
       "        text-align: right;\n",
       "    }\n",
       "</style>\n",
       "<table border=\"1\" class=\"dataframe\">\n",
       "  <thead>\n",
       "    <tr style=\"text-align: right;\">\n",
       "      <th></th>\n",
       "      <th>aproximado</th>\n",
       "      <th>erro</th>\n",
       "      <th>percentual</th>\n",
       "      <th>dif_erro</th>\n",
       "    </tr>\n",
       "  </thead>\n",
       "  <tbody>\n",
       "    <tr>\n",
       "      <th>4</th>\n",
       "      <td>0.790766</td>\n",
       "      <td>0.209234</td>\n",
       "      <td>20.923374</td>\n",
       "      <td>NaN</td>\n",
       "    </tr>\n",
       "    <tr>\n",
       "      <th>8</th>\n",
       "      <td>0.898610</td>\n",
       "      <td>0.101390</td>\n",
       "      <td>10.138960</td>\n",
       "      <td>2.063661</td>\n",
       "    </tr>\n",
       "    <tr>\n",
       "      <th>16</th>\n",
       "      <td>0.950109</td>\n",
       "      <td>0.049891</td>\n",
       "      <td>4.989070</td>\n",
       "      <td>2.032234</td>\n",
       "    </tr>\n",
       "    <tr>\n",
       "      <th>32</th>\n",
       "      <td>0.975256</td>\n",
       "      <td>0.024744</td>\n",
       "      <td>2.474450</td>\n",
       "      <td>2.016234</td>\n",
       "    </tr>\n",
       "    <tr>\n",
       "      <th>64</th>\n",
       "      <td>0.987678</td>\n",
       "      <td>0.012322</td>\n",
       "      <td>1.232205</td>\n",
       "      <td>2.008148</td>\n",
       "    </tr>\n",
       "    <tr>\n",
       "      <th>128</th>\n",
       "      <td>0.993852</td>\n",
       "      <td>0.006148</td>\n",
       "      <td>0.614847</td>\n",
       "      <td>2.004082</td>\n",
       "    </tr>\n",
       "    <tr>\n",
       "      <th>256</th>\n",
       "      <td>0.996929</td>\n",
       "      <td>0.003071</td>\n",
       "      <td>0.307110</td>\n",
       "      <td>2.002043</td>\n",
       "    </tr>\n",
       "  </tbody>\n",
       "</table>\n",
       "</div>"
      ],
      "text/plain": [
       "     aproximado      erro  percentual  dif_erro\n",
       "4      0.790766  0.209234   20.923374       NaN\n",
       "8      0.898610  0.101390   10.138960  2.063661\n",
       "16     0.950109  0.049891    4.989070  2.032234\n",
       "32     0.975256  0.024744    2.474450  2.016234\n",
       "64     0.987678  0.012322    1.232205  2.008148\n",
       "128    0.993852  0.006148    0.614847  2.004082\n",
       "256    0.996929  0.003071    0.307110  2.002043"
      ]
     },
     "metadata": {},
     "output_type": "display_data"
    },
    {
     "name": "stdout",
     "output_type": "stream",
     "text": [
      "Tabela: erro e taxa de convergência do método \"riemann_esq\" para diversos valores de n.\n"
     ]
    }
   ],
   "source": [
    "# teste/validação da soma de Riemann à esquerda\n",
    "resultados(riemann_esq, f, (a, b), 1)\n"
   ]
  },
  {
   "cell_type": "code",
   "execution_count": 37,
   "metadata": {
    "id": "cggwh7tJzqHa"
   },
   "outputs": [],
   "source": [
    "def riemann_dir(f, a, b, n):\n",
    "    \"\"\"Aproximação do valor da integral definida de uma função f \n",
    "       no intervalo [a,b] utilizando o método da soma de Riemann \n",
    "       à direita.\n",
    "\n",
    "    Args:\n",
    "      f (callable): função a ser integrada.\n",
    "      a (float): início do intervalo de integração.\n",
    "      b (float): fim do intervalo de integração.\n",
    "      n (int): número de subintervalos utilizados na soma.\n",
    "\n",
    "    Returns:\n",
    "      float: valor da soma/integral.\n",
    "    \"\"\"\n",
    "    h = (b - a)/n\n",
    "    soma = 0.0\n",
    "    for i in range(1, n+1):\n",
    "        xi = a + i*h\n",
    "        soma = soma + f(xi)\n",
    "\n",
    "    return h*soma\n"
   ]
  },
  {
   "cell_type": "code",
   "execution_count": 38,
   "metadata": {
    "colab": {
     "base_uri": "https://localhost:8080/"
    },
    "id": "wnCqPV9SwI5c",
    "outputId": "64792430-a684-45d3-881e-ff1f1def4e38"
   },
   "outputs": [
    {
     "data": {
      "text/html": [
       "<div>\n",
       "<style scoped>\n",
       "    .dataframe tbody tr th:only-of-type {\n",
       "        vertical-align: middle;\n",
       "    }\n",
       "\n",
       "    .dataframe tbody tr th {\n",
       "        vertical-align: top;\n",
       "    }\n",
       "\n",
       "    .dataframe thead th {\n",
       "        text-align: right;\n",
       "    }\n",
       "</style>\n",
       "<table border=\"1\" class=\"dataframe\">\n",
       "  <thead>\n",
       "    <tr style=\"text-align: right;\">\n",
       "      <th></th>\n",
       "      <th>aproximado</th>\n",
       "      <th>erro</th>\n",
       "      <th>percentual</th>\n",
       "      <th>dif_erro</th>\n",
       "    </tr>\n",
       "  </thead>\n",
       "  <tbody>\n",
       "    <tr>\n",
       "      <th>4</th>\n",
       "      <td>1.183465</td>\n",
       "      <td>-0.183465</td>\n",
       "      <td>18.346534</td>\n",
       "      <td>NaN</td>\n",
       "    </tr>\n",
       "    <tr>\n",
       "      <th>8</th>\n",
       "      <td>1.094960</td>\n",
       "      <td>-0.094960</td>\n",
       "      <td>9.495994</td>\n",
       "      <td>1.932029</td>\n",
       "    </tr>\n",
       "    <tr>\n",
       "      <th>16</th>\n",
       "      <td>1.048284</td>\n",
       "      <td>-0.048284</td>\n",
       "      <td>4.828407</td>\n",
       "      <td>1.966693</td>\n",
       "    </tr>\n",
       "    <tr>\n",
       "      <th>32</th>\n",
       "      <td>1.024343</td>\n",
       "      <td>-0.024343</td>\n",
       "      <td>2.434289</td>\n",
       "      <td>1.983498</td>\n",
       "    </tr>\n",
       "    <tr>\n",
       "      <th>64</th>\n",
       "      <td>1.012222</td>\n",
       "      <td>-0.012222</td>\n",
       "      <td>1.222165</td>\n",
       "      <td>1.991785</td>\n",
       "    </tr>\n",
       "    <tr>\n",
       "      <th>128</th>\n",
       "      <td>1.006123</td>\n",
       "      <td>-0.006123</td>\n",
       "      <td>0.612337</td>\n",
       "      <td>1.995901</td>\n",
       "    </tr>\n",
       "    <tr>\n",
       "      <th>256</th>\n",
       "      <td>1.003065</td>\n",
       "      <td>-0.003065</td>\n",
       "      <td>0.306482</td>\n",
       "      <td>1.997953</td>\n",
       "    </tr>\n",
       "  </tbody>\n",
       "</table>\n",
       "</div>"
      ],
      "text/plain": [
       "     aproximado      erro  percentual  dif_erro\n",
       "4      1.183465 -0.183465   18.346534       NaN\n",
       "8      1.094960 -0.094960    9.495994  1.932029\n",
       "16     1.048284 -0.048284    4.828407  1.966693\n",
       "32     1.024343 -0.024343    2.434289  1.983498\n",
       "64     1.012222 -0.012222    1.222165  1.991785\n",
       "128    1.006123 -0.006123    0.612337  1.995901\n",
       "256    1.003065 -0.003065    0.306482  1.997953"
      ]
     },
     "metadata": {},
     "output_type": "display_data"
    },
    {
     "name": "stdout",
     "output_type": "stream",
     "text": [
      "Tabela: erro e taxa de convergência do método \"riemann_dir\" para diversos valores de n.\n"
     ]
    }
   ],
   "source": [
    "# teste da soma de Riemann à direita\n",
    "resultados(riemann_dir, f, (a, b), 1)\n"
   ]
  },
  {
   "cell_type": "code",
   "execution_count": 39,
   "metadata": {
    "id": "vT9b-UlY7g0I"
   },
   "outputs": [],
   "source": [
    "def riemann_med(f, a, b, n):\n",
    "    \"\"\"Aproximação do valor da integral definida de uma função f \n",
    "       no intervalo [a,b] utilizando o método da soma de Riemann \n",
    "       média.\n",
    "\n",
    "    Args:\n",
    "      f (callable): função a ser integrada.\n",
    "      a (float): início do intervalo de integração.\n",
    "      b (float): fim do intervalo de integração.\n",
    "      n (int): número de subintervalos utilizados na soma.\n",
    "\n",
    "    Returns:\n",
    "      float: valor da soma/integral.\n",
    "    \"\"\"\n",
    "    h = (b - a)/n\n",
    "    soma = 0.0\n",
    "    for i in range(0, n):\n",
    "        xi = a + h*(i + 0.5)\n",
    "        soma = soma + f(xi)\n",
    "\n",
    "    return h*soma\n"
   ]
  },
  {
   "cell_type": "code",
   "execution_count": 40,
   "metadata": {
    "colab": {
     "base_uri": "https://localhost:8080/"
    },
    "id": "GN-VIXrs7g0M",
    "outputId": "9b93de9b-6a03-47a2-981a-c7a526057a26"
   },
   "outputs": [
    {
     "data": {
      "text/html": [
       "<div>\n",
       "<style scoped>\n",
       "    .dataframe tbody tr th:only-of-type {\n",
       "        vertical-align: middle;\n",
       "    }\n",
       "\n",
       "    .dataframe tbody tr th {\n",
       "        vertical-align: top;\n",
       "    }\n",
       "\n",
       "    .dataframe thead th {\n",
       "        text-align: right;\n",
       "    }\n",
       "</style>\n",
       "<table border=\"1\" class=\"dataframe\">\n",
       "  <thead>\n",
       "    <tr style=\"text-align: right;\">\n",
       "      <th></th>\n",
       "      <th>aproximado</th>\n",
       "      <th>erro</th>\n",
       "      <th>percentual</th>\n",
       "      <th>dif_erro</th>\n",
       "    </tr>\n",
       "  </thead>\n",
       "  <tbody>\n",
       "    <tr>\n",
       "      <th>4</th>\n",
       "      <td>1.006455</td>\n",
       "      <td>-0.006455</td>\n",
       "      <td>0.645454</td>\n",
       "      <td>NaN</td>\n",
       "    </tr>\n",
       "    <tr>\n",
       "      <th>8</th>\n",
       "      <td>1.001608</td>\n",
       "      <td>-0.001608</td>\n",
       "      <td>0.160819</td>\n",
       "      <td>4.013547</td>\n",
       "    </tr>\n",
       "    <tr>\n",
       "      <th>16</th>\n",
       "      <td>1.000402</td>\n",
       "      <td>-0.000402</td>\n",
       "      <td>0.040171</td>\n",
       "      <td>4.003377</td>\n",
       "    </tr>\n",
       "    <tr>\n",
       "      <th>32</th>\n",
       "      <td>1.000100</td>\n",
       "      <td>-0.000100</td>\n",
       "      <td>0.010041</td>\n",
       "      <td>4.000844</td>\n",
       "    </tr>\n",
       "    <tr>\n",
       "      <th>64</th>\n",
       "      <td>1.000025</td>\n",
       "      <td>-0.000025</td>\n",
       "      <td>0.002510</td>\n",
       "      <td>4.000211</td>\n",
       "    </tr>\n",
       "    <tr>\n",
       "      <th>128</th>\n",
       "      <td>1.000006</td>\n",
       "      <td>-0.000006</td>\n",
       "      <td>0.000627</td>\n",
       "      <td>4.000053</td>\n",
       "    </tr>\n",
       "    <tr>\n",
       "      <th>256</th>\n",
       "      <td>1.000002</td>\n",
       "      <td>-0.000002</td>\n",
       "      <td>0.000157</td>\n",
       "      <td>4.000013</td>\n",
       "    </tr>\n",
       "  </tbody>\n",
       "</table>\n",
       "</div>"
      ],
      "text/plain": [
       "     aproximado      erro  percentual  dif_erro\n",
       "4      1.006455 -0.006455    0.645454       NaN\n",
       "8      1.001608 -0.001608    0.160819  4.013547\n",
       "16     1.000402 -0.000402    0.040171  4.003377\n",
       "32     1.000100 -0.000100    0.010041  4.000844\n",
       "64     1.000025 -0.000025    0.002510  4.000211\n",
       "128    1.000006 -0.000006    0.000627  4.000053\n",
       "256    1.000002 -0.000002    0.000157  4.000013"
      ]
     },
     "metadata": {},
     "output_type": "display_data"
    },
    {
     "name": "stdout",
     "output_type": "stream",
     "text": [
      "Tabela: erro e taxa de convergência do método \"riemann_med\" para diversos valores de n.\n"
     ]
    }
   ],
   "source": [
    "# teste da soma de Riemann média\n",
    "resultados(riemann_med, f, (a, b), valor_exato=1)\n"
   ]
  },
  {
   "cell_type": "code",
   "execution_count": 41,
   "metadata": {
    "id": "qL1SGiV1-mk7"
   },
   "outputs": [],
   "source": [
    "def riemann_trap(f, a, b, n):\n",
    "    \"\"\"Aproximação do valor da integral definida de uma função f \n",
    "       no intervalo [a,b] utilizando a média aritmética das somas\n",
    "       de Riemann esquerda e direita. \n",
    "\n",
    "    Args:\n",
    "      f (callable): função a ser integrada.\n",
    "      a (float): início do intervalo de integração.\n",
    "      b (float): fim do intervalo de integração.\n",
    "      n (int): número de subintervalos utilizados na soma.\n",
    "\n",
    "    Returns:\n",
    "      float: valor da soma/integral.\n",
    "    \"\"\"\n",
    "\n",
    "    return 0.5*(riemann_esq(f, a, b, n) + riemann_dir(f, a, b, n))\n"
   ]
  },
  {
   "cell_type": "code",
   "execution_count": 42,
   "metadata": {
    "colab": {
     "base_uri": "https://localhost:8080/"
    },
    "id": "R77Mh_s9-mlD",
    "outputId": "d463359e-10b8-4f25-c3cd-bacf35856c4e"
   },
   "outputs": [
    {
     "data": {
      "text/html": [
       "<div>\n",
       "<style scoped>\n",
       "    .dataframe tbody tr th:only-of-type {\n",
       "        vertical-align: middle;\n",
       "    }\n",
       "\n",
       "    .dataframe tbody tr th {\n",
       "        vertical-align: top;\n",
       "    }\n",
       "\n",
       "    .dataframe thead th {\n",
       "        text-align: right;\n",
       "    }\n",
       "</style>\n",
       "<table border=\"1\" class=\"dataframe\">\n",
       "  <thead>\n",
       "    <tr style=\"text-align: right;\">\n",
       "      <th></th>\n",
       "      <th>aproximado</th>\n",
       "      <th>erro</th>\n",
       "      <th>percentual</th>\n",
       "      <th>dif_erro</th>\n",
       "    </tr>\n",
       "  </thead>\n",
       "  <tbody>\n",
       "    <tr>\n",
       "      <th>4</th>\n",
       "      <td>0.987116</td>\n",
       "      <td>0.012884</td>\n",
       "      <td>1.288420</td>\n",
       "      <td>NaN</td>\n",
       "    </tr>\n",
       "    <tr>\n",
       "      <th>8</th>\n",
       "      <td>0.996785</td>\n",
       "      <td>0.003215</td>\n",
       "      <td>0.321483</td>\n",
       "      <td>4.007741</td>\n",
       "    </tr>\n",
       "    <tr>\n",
       "      <th>16</th>\n",
       "      <td>0.999197</td>\n",
       "      <td>0.000803</td>\n",
       "      <td>0.080332</td>\n",
       "      <td>4.001930</td>\n",
       "    </tr>\n",
       "    <tr>\n",
       "      <th>32</th>\n",
       "      <td>0.999799</td>\n",
       "      <td>0.000201</td>\n",
       "      <td>0.020081</td>\n",
       "      <td>4.000482</td>\n",
       "    </tr>\n",
       "    <tr>\n",
       "      <th>64</th>\n",
       "      <td>0.999950</td>\n",
       "      <td>0.000050</td>\n",
       "      <td>0.005020</td>\n",
       "      <td>4.000120</td>\n",
       "    </tr>\n",
       "    <tr>\n",
       "      <th>128</th>\n",
       "      <td>0.999987</td>\n",
       "      <td>0.000013</td>\n",
       "      <td>0.001255</td>\n",
       "      <td>4.000030</td>\n",
       "    </tr>\n",
       "    <tr>\n",
       "      <th>256</th>\n",
       "      <td>0.999997</td>\n",
       "      <td>0.000003</td>\n",
       "      <td>0.000314</td>\n",
       "      <td>4.000008</td>\n",
       "    </tr>\n",
       "  </tbody>\n",
       "</table>\n",
       "</div>"
      ],
      "text/plain": [
       "     aproximado      erro  percentual  dif_erro\n",
       "4      0.987116  0.012884    1.288420       NaN\n",
       "8      0.996785  0.003215    0.321483  4.007741\n",
       "16     0.999197  0.000803    0.080332  4.001930\n",
       "32     0.999799  0.000201    0.020081  4.000482\n",
       "64     0.999950  0.000050    0.005020  4.000120\n",
       "128    0.999987  0.000013    0.001255  4.000030\n",
       "256    0.999997  0.000003    0.000314  4.000008"
      ]
     },
     "metadata": {},
     "output_type": "display_data"
    },
    {
     "name": "stdout",
     "output_type": "stream",
     "text": [
      "Tabela: erro e taxa de convergência do método \"riemann_trap\" para diversos valores de n.\n"
     ]
    }
   ],
   "source": [
    "# teste da soma de Riemann trapezoidal\n",
    "resultados(riemann_trap, f, (a, b), valor_exato=1)\n"
   ]
  },
  {
   "attachments": {},
   "cell_type": "markdown",
   "metadata": {
    "id": "KVz0I9DdF9XV"
   },
   "source": [
    "Outra implementação equivalente, porém mais eficiente, da soma trapezoidal seria utilizar a fórmula simplificada da área do triângulo ao invés de calcular duas somas de Riemann:"
   ]
  },
  {
   "cell_type": "code",
   "execution_count": 43,
   "metadata": {
    "id": "GMTAaG1LGQzT"
   },
   "outputs": [],
   "source": [
    "def riemann_trap2(f, a, b, n):\n",
    "    \"\"\"Aproximação do valor da integral definida de uma função f \n",
    "       no intervalo [a,b] utilizando o método da soma de Riemann \n",
    "       trapezoidal.\n",
    "\n",
    "    Args:\n",
    "      f (callable): função a ser integrada.\n",
    "      a (float): início do intervalo de integração.\n",
    "      b (float): fim do intervalo de integração.\n",
    "      n (int): número de subintervalos utilizados na soma.\n",
    "\n",
    "    Returns:\n",
    "      float: valor da soma/integral.\n",
    "    \"\"\"\n",
    "\n",
    "    h = (b - a)/n\n",
    "    soma = f(a) + f(b)\n",
    "    for i in range(1, n):\n",
    "        xi = a + i*h\n",
    "        soma = soma + 2*f(xi)\n",
    "\n",
    "    return 0.5*h*soma\n"
   ]
  },
  {
   "cell_type": "code",
   "execution_count": 44,
   "metadata": {
    "colab": {
     "base_uri": "https://localhost:8080/"
    },
    "id": "7KJ5KLlWGQzV",
    "outputId": "35183137-d11d-45f8-ef93-4ba7278ac3ae"
   },
   "outputs": [
    {
     "data": {
      "text/html": [
       "<div>\n",
       "<style scoped>\n",
       "    .dataframe tbody tr th:only-of-type {\n",
       "        vertical-align: middle;\n",
       "    }\n",
       "\n",
       "    .dataframe tbody tr th {\n",
       "        vertical-align: top;\n",
       "    }\n",
       "\n",
       "    .dataframe thead th {\n",
       "        text-align: right;\n",
       "    }\n",
       "</style>\n",
       "<table border=\"1\" class=\"dataframe\">\n",
       "  <thead>\n",
       "    <tr style=\"text-align: right;\">\n",
       "      <th></th>\n",
       "      <th>aproximado</th>\n",
       "      <th>erro</th>\n",
       "      <th>percentual</th>\n",
       "      <th>dif_erro</th>\n",
       "    </tr>\n",
       "  </thead>\n",
       "  <tbody>\n",
       "    <tr>\n",
       "      <th>4</th>\n",
       "      <td>0.987116</td>\n",
       "      <td>0.012884</td>\n",
       "      <td>1.288420</td>\n",
       "      <td>NaN</td>\n",
       "    </tr>\n",
       "    <tr>\n",
       "      <th>8</th>\n",
       "      <td>0.996785</td>\n",
       "      <td>0.003215</td>\n",
       "      <td>0.321483</td>\n",
       "      <td>4.007741</td>\n",
       "    </tr>\n",
       "    <tr>\n",
       "      <th>16</th>\n",
       "      <td>0.999197</td>\n",
       "      <td>0.000803</td>\n",
       "      <td>0.080332</td>\n",
       "      <td>4.001930</td>\n",
       "    </tr>\n",
       "    <tr>\n",
       "      <th>32</th>\n",
       "      <td>0.999799</td>\n",
       "      <td>0.000201</td>\n",
       "      <td>0.020081</td>\n",
       "      <td>4.000482</td>\n",
       "    </tr>\n",
       "    <tr>\n",
       "      <th>64</th>\n",
       "      <td>0.999950</td>\n",
       "      <td>0.000050</td>\n",
       "      <td>0.005020</td>\n",
       "      <td>4.000120</td>\n",
       "    </tr>\n",
       "    <tr>\n",
       "      <th>128</th>\n",
       "      <td>0.999987</td>\n",
       "      <td>0.000013</td>\n",
       "      <td>0.001255</td>\n",
       "      <td>4.000030</td>\n",
       "    </tr>\n",
       "    <tr>\n",
       "      <th>256</th>\n",
       "      <td>0.999997</td>\n",
       "      <td>0.000003</td>\n",
       "      <td>0.000314</td>\n",
       "      <td>4.000008</td>\n",
       "    </tr>\n",
       "  </tbody>\n",
       "</table>\n",
       "</div>"
      ],
      "text/plain": [
       "     aproximado      erro  percentual  dif_erro\n",
       "4      0.987116  0.012884    1.288420       NaN\n",
       "8      0.996785  0.003215    0.321483  4.007741\n",
       "16     0.999197  0.000803    0.080332  4.001930\n",
       "32     0.999799  0.000201    0.020081  4.000482\n",
       "64     0.999950  0.000050    0.005020  4.000120\n",
       "128    0.999987  0.000013    0.001255  4.000030\n",
       "256    0.999997  0.000003    0.000314  4.000008"
      ]
     },
     "metadata": {},
     "output_type": "display_data"
    },
    {
     "name": "stdout",
     "output_type": "stream",
     "text": [
      "Tabela: erro e taxa de convergência do método \"riemann_trap2\" para diversos valores de n.\n"
     ]
    }
   ],
   "source": [
    "# teste da soma de Riemann trapezoidal\n",
    "resultados(riemann_trap2, f, (a, b), valor_exato=1)\n"
   ]
  },
  {
   "attachments": {},
   "cell_type": "markdown",
   "metadata": {
    "id": "y8hFpTnVIjE5"
   },
   "source": [
    "Algumas observações importantes:\n",
    "  - note que o valor aproximado (e, consequentemente, o erro) usando a fórmula do trapézio é igual ao valor obtido usando a média aritmética das somas de Riemann. \n",
    "  - o erro do esquema trapezoidal é o dobro do erro obtido com a soma de Riemaan média (método do ponto médio)."
   ]
  },
  {
   "attachments": {},
   "cell_type": "markdown",
   "metadata": {},
   "source": [
    "## Método de Integração de Romberg\n",
    "---\n",
    "\n",
    "O método de Romberg é um algoritmo projetado para construir quadraturas de alta ordem a partir do método dos trapézios. Para tanto, o método utiliza a extralação de Richardson. \n",
    "\n",
    "A extrapolação de Richardson é usada para gerar resultados de alta precisão mediante fórmulas de ordens menores. A extrapolação pode ser aplicada sempre que uma técnica de aproximação é conhecida por ter um termo de erro com um formato previsível, que depende de um parâmetro, normalmente o tamanho do passo $h$. \n",
    "\n",
    "Para aproximar a integral $\\int_a^b f(x)\\,\\text{d}x$, usamos os resultados da regra composta trapezoidal com $n = 1, 2, 4, 8, 16,\\ldots$, e indicamos as aproximações resultantes, respectivamente por $F_{1,1}$, $F_{2,1}$, $F_{3,1}$ e assim por diante. Em seguida, aplicamos uma extrapolação conforme a ordem desejada para a aproximação, para  $\\mathcal O(h^4)$, temos que:\n",
    "\n",
    "$$\n",
    "F_{k,2} = F_{k,1} + \\frac{1}{3}\\left(F_{k,1} − F_{k−1,1}\\right),\\quad \\forall k = 2,3,\\ldots\n",
    "$$\n",
    "\n",
    "Assim, as aproximacões $F_{3,3}$, $F_{4,3}$, $F_{5,3}$ de ordem $\\mathcal O(h^6)$, podem ser obtidas mediante\n",
    "\n",
    "$$\n",
    "F_{k,3} = F_{k,2} + \\frac{1}{15}\\left(F_{k,2} − F_{k−1,2}\\right),\\quad \\forall k = 3,4,\\ldots\n",
    "$$"
   ]
  },
  {
   "attachments": {},
   "cell_type": "markdown",
   "metadata": {
    "id": "HUJ--BrrWdCF"
   },
   "source": [
    "## Exemplo prático\n",
    "---\n",
    "\n",
    "Como exemplo, utilizaremos o caso de um móvel partindo do repouso e ganhando velocidade rapidamente, tal que sua função horário da velocidade seja dada por (com $t$ em segundos e $v$ em m/s):\n",
    "\n",
    "$$\n",
    "v(t) = 3t^2e^{t^3}.\n",
    "$$\n",
    "\n",
    "Gostaríamos de saber qual a posição do móvel em determinado instante $T$ (em segundos), ou seja, precisamos computar\n",
    "\n",
    "$$\n",
    "\\int_0^T v(t)\\,\\text{d}t = \\int_0^T 3t^2e^{t^3}\\,\\text{d}t.\n",
    "$$\n",
    "\n",
    "Felizmente, nesse caso, a primitiva pode ser facilmente obtida e é dada por \n",
    "\n",
    "$$\n",
    "\\int_0^T 3t^2e^{t^3}\\,\\text{d}t = \\left[e^{t^3}\\right]_0^T\n",
    "$$\n",
    "\n",
    "Assim, para $T=1$ s, temos que a posição da partícula (em metros) é igual a \n",
    "\n",
    "$$\n",
    "\\left[e^{t^3}\\right]_0^1 = 1,71828...\n",
    "$$\n",
    "\n"
   ]
  },
  {
   "attachments": {},
   "cell_type": "markdown",
   "metadata": {
    "id": "126gZ-ZkePUp"
   },
   "source": [
    "Como sabemos, calcular a integral definida de uma função $f(x)$ é equivalente a computar a área compreendida entre o gráfico de $y=f(x)$ e o eixo $x$ entre os pontos $a$ e $b$, é o que mostra a figura abaixo para o nosso exemplo.\n",
    "\n",
    "<br>\n",
    "<div style=\"margin:auto; text-align:center; width:75%;\">\n",
    "  <center>\n",
    "  <img src=\"https://raw.githubusercontent.com/bgeneto/MCA/main/imagens/integralarea.png\" align=\"center\"/>\n",
    "  <p style=\"text-align:center; font-style:italic;\">\n",
    "    A integral definida corresponde ao valor da área abaixo do gráfico.\n",
    "  </p> \n",
    "  </center>\n",
    "</div>"
   ]
  },
  {
   "attachments": {},
   "cell_type": "markdown",
   "metadata": {
    "id": "jQrkoznvgVw0"
   },
   "source": [
    "## Resolução do exemplo\n",
    "\n",
    "A ideia básica da integração numérica via regra do trapézio é dividir a área desejada em subintervalos interligadas por linhas retas (interpolação de Lagrange linear). Em nosso caso, teríamos algo assim:\n",
    "\n",
    "<br>\n",
    "<div style=\"margin:auto; text-align:center; width:75%;\">\n",
    "  <center>\n",
    "  <img src=\"https://raw.githubusercontent.com/bgeneto/MCA/main/imagens/integralarea2.png\" align=\"center\"/>\n",
    "  <p style=\"text-align:center; font-style:italic;\">\n",
    "    Aproximação da área por meio da regra trapezoidal.\n",
    "  </p> \n",
    "  </center>\n",
    "</div>\n",
    "<br>\n",
    "\n",
    "Vejamos o quão boa é esta aproximação para diversos valores de $n$. Para tanto, vamos comparar o resultado aproximado com o valor exato para diversos valores crescentes de $n$ (ou decrescentes de $h$). "
   ]
  },
  {
   "cell_type": "code",
   "execution_count": 45,
   "metadata": {
    "id": "oOs39b_NW6h6"
   },
   "outputs": [],
   "source": [
    "from numpy import exp\n",
    "\n",
    "\n",
    "def velocidade(t):\n",
    "    '''velocidade em função do tempo'''\n",
    "    return 3*(t**2)*exp(t**3)\n",
    "\n",
    "\n",
    "def analitica(a, b):\n",
    "    '''valor exato da integral no intervalo [a,b]'''\n",
    "    return exp(b**3) - exp(a**3)\n"
   ]
  },
  {
   "cell_type": "code",
   "execution_count": 46,
   "metadata": {
    "id": "Hpz3R7by2BfY"
   },
   "outputs": [
    {
     "data": {
      "text/html": [
       "<div>\n",
       "<style scoped>\n",
       "    .dataframe tbody tr th:only-of-type {\n",
       "        vertical-align: middle;\n",
       "    }\n",
       "\n",
       "    .dataframe tbody tr th {\n",
       "        vertical-align: top;\n",
       "    }\n",
       "\n",
       "    .dataframe thead th {\n",
       "        text-align: right;\n",
       "    }\n",
       "</style>\n",
       "<table border=\"1\" class=\"dataframe\">\n",
       "  <thead>\n",
       "    <tr style=\"text-align: right;\">\n",
       "      <th></th>\n",
       "      <th>aproximado</th>\n",
       "      <th>erro</th>\n",
       "      <th>percentual</th>\n",
       "      <th>dif_erro</th>\n",
       "    </tr>\n",
       "  </thead>\n",
       "  <tbody>\n",
       "    <tr>\n",
       "      <th>4</th>\n",
       "      <td>1.922717</td>\n",
       "      <td>-0.204435</td>\n",
       "      <td>11.897636</td>\n",
       "      <td>NaN</td>\n",
       "    </tr>\n",
       "    <tr>\n",
       "      <th>8</th>\n",
       "      <td>1.770846</td>\n",
       "      <td>-0.052564</td>\n",
       "      <td>3.059109</td>\n",
       "      <td>3.889249</td>\n",
       "    </tr>\n",
       "    <tr>\n",
       "      <th>16</th>\n",
       "      <td>1.731521</td>\n",
       "      <td>-0.013239</td>\n",
       "      <td>0.770499</td>\n",
       "      <td>3.970294</td>\n",
       "    </tr>\n",
       "    <tr>\n",
       "      <th>32</th>\n",
       "      <td>1.721598</td>\n",
       "      <td>-0.003316</td>\n",
       "      <td>0.192990</td>\n",
       "      <td>3.992432</td>\n",
       "    </tr>\n",
       "    <tr>\n",
       "      <th>64</th>\n",
       "      <td>1.719111</td>\n",
       "      <td>-0.000829</td>\n",
       "      <td>0.048270</td>\n",
       "      <td>3.998099</td>\n",
       "    </tr>\n",
       "    <tr>\n",
       "      <th>128</th>\n",
       "      <td>1.718489</td>\n",
       "      <td>-0.000207</td>\n",
       "      <td>0.012069</td>\n",
       "      <td>3.999524</td>\n",
       "    </tr>\n",
       "    <tr>\n",
       "      <th>256</th>\n",
       "      <td>1.718334</td>\n",
       "      <td>-0.000052</td>\n",
       "      <td>0.003017</td>\n",
       "      <td>3.999881</td>\n",
       "    </tr>\n",
       "  </tbody>\n",
       "</table>\n",
       "</div>"
      ],
      "text/plain": [
       "     aproximado      erro  percentual  dif_erro\n",
       "4      1.922717 -0.204435   11.897636       NaN\n",
       "8      1.770846 -0.052564    3.059109  3.889249\n",
       "16     1.731521 -0.013239    0.770499  3.970294\n",
       "32     1.721598 -0.003316    0.192990  3.992432\n",
       "64     1.719111 -0.000829    0.048270  3.998099\n",
       "128    1.718489 -0.000207    0.012069  3.999524\n",
       "256    1.718334 -0.000052    0.003017  3.999881"
      ]
     },
     "metadata": {},
     "output_type": "display_data"
    },
    {
     "name": "stdout",
     "output_type": "stream",
     "text": [
      "Tabela: erro e taxa de convergência do método \"riemann_trap\" para diversos valores de n.\n"
     ]
    }
   ],
   "source": [
    "# intervalo\n",
    "a = 0\n",
    "b = 1\n",
    "\n",
    "# valor exato\n",
    "exato = analitica(a, b)\n",
    "\n",
    "# solução via trapézio\n",
    "resultados(riemann_trap, velocidade, (a, b), exato)\n"
   ]
  },
  {
   "attachments": {},
   "cell_type": "markdown",
   "metadata": {},
   "source": [
    "Note que a convergência do método é quadrática, isto é, que o erro quadruplica quando $n$ dobra (ou quando $h$ cai pela metade). Isso significa que o erro de truncamento desse método é de ordem $\\mathcal O(h^2)$. Mais precisamente, o erro de truncamento no método dos trapézios é dado por:\n",
    "\n",
    "$$\n",
    "\\varepsilon_\\text{trap} = -\\frac{(b-a)f''(\\mu)}{12}h^2, \\quad\\forall\\mu\\in [a,b].\n",
    "$$"
   ]
  },
  {
   "attachments": {},
   "cell_type": "markdown",
   "metadata": {},
   "source": [
    "Vamos agora verificar que o método do ponto médio (soma de Riemann média) também possui convergência quadrática porém nos dá um erro ligeiramente menor (metade em relação ao método do trapézio), ou seja:\n",
    "\n",
    "$$\n",
    "\\varepsilon_\\text{med} = -\\frac{(b-a)f''(\\mu)}{24}h^2, \\quad\\forall\\mu\\in [a,b].\n",
    "$$"
   ]
  },
  {
   "cell_type": "code",
   "execution_count": 47,
   "metadata": {},
   "outputs": [
    {
     "data": {
      "text/html": [
       "<div>\n",
       "<style scoped>\n",
       "    .dataframe tbody tr th:only-of-type {\n",
       "        vertical-align: middle;\n",
       "    }\n",
       "\n",
       "    .dataframe tbody tr th {\n",
       "        vertical-align: top;\n",
       "    }\n",
       "\n",
       "    .dataframe thead th {\n",
       "        text-align: right;\n",
       "    }\n",
       "</style>\n",
       "<table border=\"1\" class=\"dataframe\">\n",
       "  <thead>\n",
       "    <tr style=\"text-align: right;\">\n",
       "      <th></th>\n",
       "      <th>aproximado</th>\n",
       "      <th>erro</th>\n",
       "      <th>percentual</th>\n",
       "      <th>dif_erro</th>\n",
       "    </tr>\n",
       "  </thead>\n",
       "  <tbody>\n",
       "    <tr>\n",
       "      <th>4</th>\n",
       "      <td>1.618975</td>\n",
       "      <td>0.099307</td>\n",
       "      <td>5.779418</td>\n",
       "      <td>NaN</td>\n",
       "    </tr>\n",
       "    <tr>\n",
       "      <th>8</th>\n",
       "      <td>1.692196</td>\n",
       "      <td>0.026085</td>\n",
       "      <td>1.518110</td>\n",
       "      <td>3.806981</td>\n",
       "    </tr>\n",
       "    <tr>\n",
       "      <th>16</th>\n",
       "      <td>1.711675</td>\n",
       "      <td>0.006607</td>\n",
       "      <td>0.384519</td>\n",
       "      <td>3.948073</td>\n",
       "    </tr>\n",
       "    <tr>\n",
       "      <th>32</th>\n",
       "      <td>1.716625</td>\n",
       "      <td>0.001657</td>\n",
       "      <td>0.096449</td>\n",
       "      <td>3.986759</td>\n",
       "    </tr>\n",
       "    <tr>\n",
       "      <th>64</th>\n",
       "      <td>1.717867</td>\n",
       "      <td>0.000415</td>\n",
       "      <td>0.024132</td>\n",
       "      <td>3.996673</td>\n",
       "    </tr>\n",
       "    <tr>\n",
       "      <th>128</th>\n",
       "      <td>1.718178</td>\n",
       "      <td>0.000104</td>\n",
       "      <td>0.006034</td>\n",
       "      <td>3.999167</td>\n",
       "    </tr>\n",
       "    <tr>\n",
       "      <th>256</th>\n",
       "      <td>1.718256</td>\n",
       "      <td>0.000026</td>\n",
       "      <td>0.001509</td>\n",
       "      <td>3.999792</td>\n",
       "    </tr>\n",
       "  </tbody>\n",
       "</table>\n",
       "</div>"
      ],
      "text/plain": [
       "     aproximado      erro  percentual  dif_erro\n",
       "4      1.618975  0.099307    5.779418       NaN\n",
       "8      1.692196  0.026085    1.518110  3.806981\n",
       "16     1.711675  0.006607    0.384519  3.948073\n",
       "32     1.716625  0.001657    0.096449  3.986759\n",
       "64     1.717867  0.000415    0.024132  3.996673\n",
       "128    1.718178  0.000104    0.006034  3.999167\n",
       "256    1.718256  0.000026    0.001509  3.999792"
      ]
     },
     "metadata": {},
     "output_type": "display_data"
    },
    {
     "name": "stdout",
     "output_type": "stream",
     "text": [
      "Tabela: erro e taxa de convergência do método \"riemann_med\" para diversos valores de n.\n"
     ]
    }
   ],
   "source": [
    "# solução via trapézio\n",
    "resultados(riemann_med, velocidade, (a, b), exato)"
   ]
  },
  {
   "attachments": {},
   "cell_type": "markdown",
   "metadata": {
    "id": "9-sWL_UhgRz2"
   },
   "source": [
    "### Otimizando o código via vetorização\n",
    "\n",
    "A performance de códigos que utilizam comandos de repetição em Python tende a ser baixa quando comparada com linguagens compiladas de alto desempenho (leia-se: Fortran ou C/C++). \n",
    "\n",
    "Por esse motivo, buscamos otimizar, sempre que possível, nosso código em Python reescrevendo-o sem loops. Tal técnica é chamada de **vetorização**. \n",
    "\n",
    "Vamos vetorizar nossas somas de Riemann e verificar qual ganho de desempenho obteremos. Para tanto, note que a nossa malha $x_i = a + ih$ é igualmente espaçada e foi produzida (dentro de um loop) com comandos da seguinte forma:"
   ]
  },
  {
   "cell_type": "code",
   "execution_count": 48,
   "metadata": {},
   "outputs": [
    {
     "name": "stdout",
     "output_type": "stream",
     "text": [
      "0.0 , 0.25 , 0.5 , 0.75 , "
     ]
    }
   ],
   "source": [
    "n = 4\n",
    "h = (b - a)/n\n",
    "for i in range(0, n):\n",
    "    xi = a + i*h\n",
    "    print(xi, end=' , ')\n"
   ]
  },
  {
   "attachments": {},
   "cell_type": "markdown",
   "metadata": {
    "id": "jmgpyQRKit-o"
   },
   "source": [
    "Note que os valores $x_i$ são sobrescritos a cada iteração. Podemos armazenar todos os valores $x_i$ sem a necessidade de um loop (explícito) com o comando:"
   ]
  },
  {
   "cell_type": "code",
   "execution_count": 49,
   "metadata": {
    "colab": {
     "base_uri": "https://localhost:8080/"
    },
    "id": "kwAdSowOh2Mr",
    "outputId": "31ef31b9-7f76-49e0-80ca-b1b99a79a315"
   },
   "outputs": [
    {
     "data": {
      "text/plain": [
       "array([0.  , 0.25, 0.5 , 0.75])"
      ]
     },
     "execution_count": 49,
     "metadata": {},
     "output_type": "execute_result"
    }
   ],
   "source": [
    "from numpy import linspace\n",
    "\n",
    "xi = linspace(a, b, n, endpoint=False)\n",
    "xi\n"
   ]
  },
  {
   "attachments": {},
   "cell_type": "markdown",
   "metadata": {},
   "source": [
    "Com isso trocamos memória por desempenho. Isto é, utilizamos mais memória (por armazenar todos os valores $x_i$) mas ganhamos desempenho ao executar várias instruções por vez. \n",
    "Para compara a performance (e a correção) da versão otimizada, utilizaremos a seguinte função:"
   ]
  },
  {
   "cell_type": "code",
   "execution_count": 50,
   "metadata": {
    "id": "5W3grGeZjMCW"
   },
   "outputs": [],
   "source": [
    "def compara_versoes(f1, f2, a, b, n):\n",
    "    '''Compara os resultados e a performance de duas versões de uma função.'''\n",
    "    exata = analitica(a, b)\n",
    "    aprox = f1(velocidade, a, b, n)\n",
    "    aprox_opt = f2(velocidade, a, b, n)\n",
    "    print('exata =', exata)\n",
    "    print('aprox =', aprox)\n",
    "    print('optim =', aprox_opt)\n",
    "    # comparação de tempo de execução\n",
    "    t = %timeit -o -q f1(velocidade, a, b, 512)\n",
    "    topt = %timeit -o -q f2(velocidade, a, b, 512)\n",
    "    print('ganho = {:.2f}x'.format(t.average/topt.average))\n"
   ]
  },
  {
   "attachments": {},
   "cell_type": "markdown",
   "metadata": {},
   "source": [
    "Seguem as implementações otimizadas/vetorizadas:"
   ]
  },
  {
   "cell_type": "code",
   "execution_count": 51,
   "metadata": {},
   "outputs": [],
   "source": [
    "from math import fsum\n",
    "\n",
    "\n",
    "def riemann_esq_opt(f, a, b, n):\n",
    "    '''Versão otimizada via vetorização da soma de Riemann.'''\n",
    "    xi = linspace(a, b, n+1)\n",
    "    res = fsum(f(xi[:-1]))\n",
    "    return (xi[1] - xi[0])*res\n"
   ]
  },
  {
   "cell_type": "code",
   "execution_count": 52,
   "metadata": {},
   "outputs": [
    {
     "name": "stdout",
     "output_type": "stream",
     "text": [
      "exata = 1.718281828459045\n",
      "aprox = 1.7103310739104152\n",
      "optim = 1.7103310739104152\n",
      "ganho = 7.58x\n"
     ]
    }
   ],
   "source": [
    "compara_versoes(riemann_esq, riemann_esq_opt, a, b, 512)\n"
   ]
  },
  {
   "cell_type": "code",
   "execution_count": 53,
   "metadata": {
    "colab": {
     "base_uri": "https://localhost:8080/"
    },
    "id": "8y616Ja9jcVh",
    "outputId": "91aabc09-bfed-412b-d421-bc56264c2d7b"
   },
   "outputs": [],
   "source": [
    "def riemann_dir_opt(f, a, b, n):\n",
    "    '''Versão otimizada via vetorização da soma de Riemann.'''\n",
    "    xi = linspace(a, b, n+1)\n",
    "    res = fsum(f(xi[1:]))\n",
    "    return (xi[1] - xi[0])*res\n"
   ]
  },
  {
   "cell_type": "code",
   "execution_count": 54,
   "metadata": {},
   "outputs": [
    {
     "name": "stdout",
     "output_type": "stream",
     "text": [
      "exata = 1.718281828459045\n",
      "aprox = 1.7262585064990423\n",
      "optim = 1.7262585064990423\n",
      "ganho = 8.31x\n"
     ]
    }
   ],
   "source": [
    "compara_versoes(riemann_dir, riemann_dir_opt, a, b, 512)\n"
   ]
  },
  {
   "cell_type": "code",
   "execution_count": 55,
   "metadata": {},
   "outputs": [],
   "source": [
    "def riemann_med_opt(f, a, b, n):\n",
    "    '''Versão otimizada via vetorização da soma de Riemann.'''\n",
    "    h = (b - a)/n\n",
    "    xi = linspace(a+h/2, b-h/2, n)\n",
    "    res = fsum(f(xi))\n",
    "    return h*res\n"
   ]
  },
  {
   "cell_type": "code",
   "execution_count": 56,
   "metadata": {},
   "outputs": [
    {
     "name": "stdout",
     "output_type": "stream",
     "text": [
      "exata = 1.718281828459045\n",
      "aprox = 1.7182753475982557\n",
      "optim = 1.7182753475982557\n",
      "ganho = 7.32x\n"
     ]
    }
   ],
   "source": [
    "compara_versoes(riemann_med, riemann_med_opt, a, b, 512)\n"
   ]
  },
  {
   "attachments": {},
   "cell_type": "markdown",
   "metadata": {},
   "source": [
    "\n",
    "<div class=\"alert alert-block alert-info\">\n",
    "  <b>🖉 Tarefa:</b> \n",
    "  Implementar a versão otimizada da soma de Riemann trapezoidal.\n",
    "</div>"
   ]
  }
 ],
 "metadata": {
  "colab": {
   "provenance": []
  },
  "kernelspec": {
   "display_name": "Python 3 (ipykernel)",
   "language": "python",
   "name": "python3"
  },
  "language_info": {
   "codemirror_mode": {
    "name": "ipython",
    "version": 3
   },
   "file_extension": ".py",
   "mimetype": "text/x-python",
   "name": "python",
   "nbconvert_exporter": "python",
   "pygments_lexer": "ipython3",
   "version": "3.10.10"
  },
  "vscode": {
   "interpreter": {
    "hash": "c6f5971c4b8f55c07f21d358e9303b9e57f31eec2f7748b3e83dfc05726d64d8"
   }
  }
 },
 "nbformat": 4,
 "nbformat_minor": 4
}
