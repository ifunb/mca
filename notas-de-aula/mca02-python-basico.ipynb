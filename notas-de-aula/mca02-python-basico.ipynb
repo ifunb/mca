{
 "cells": [
  {
   "cell_type": "markdown",
   "metadata": {},
   "source": [
    "<div style=\"width:90%; text-align:center; border-width: 0px; display:block; margin-left:auto; margin-right:auto;\">\n",
    "<div class=\"alert alert-block alert-success\" style=\"text-align:center; color:navy;\">\n",
    "<img src=\"https://raw.githubusercontent.com/bgeneto/MCA/main/imagens/logo_unb.png\" style=\"width: 200px; opacity:0.85;\">\n",
    "<h1>Universidade de Brasília</h1>\n",
    "<h2>Instituto de Física</h2>\n",
    "<hr style=\"width:44%;border:1px solid navy;\">\n",
    "<h3>Métodos Computacionais A (MCA)</h3> \n",
    "<h4>Prof. Bernhard Enders</h4>\n",
    "<hr style=\"width:44%;border:1px solid navy;\">\n",
    "</div>\n",
    "</div>"
   ]
  },
  {
   "cell_type": "markdown",
   "metadata": {
    "id": "mcfrEwo0ruK4"
   },
   "source": [
    "# **➲ Aula 02 - Introdução à Linguagem Python**\n",
    "\n",
    "## ➥ Quais são os tipos de dados nativos em Python?\n",
    "---\n",
    "\n",
    "Python é uma linguagem de programação dinamicamente tipada. Mas isso não significa que ela não possua tipos de dados intrínsecos. \n",
    "\n",
    "Na verdade, Python é uma linguagem de programação fortemente tipada. Isso significa que as variáveis ​​em Python são associadas a um tipo de dado específico e não podem ser usadas de maneira inconsistente com esse tipo. Por exemplo, uma variável declarada como uma string não pode ser usada como um número sem ser convertida primeiro. \n",
    "\n",
    "Isso é diferente de linguagens de programação fracamente tipadas, onde as variáveis ​​podem ser usadas de maneira mais flexível e dinâmica, sem a necessidade de declarações de tipo explícitas. A tipagem forte de Python ajuda a evitar erros comuns de programação e aumenta a segurança e confiabilidade do código.\n",
    "\n",
    "Python suporta vários tipos de dados nativos, incluindo:\n",
    "\n",
    " - Números: inteiros, números de ponto flutuante e números complexos.\n",
    "- Sequências: strings, listas e tuplas.\n",
    "- Dicionários: um tipo de mapeamento que associa um conjunto de chaves a um conjunto de valores.\n",
    "- Conjuntos: um tipo de coleção que armazena itens únicos em ordem não definida.\n",
    "- Booleanos: os valores True e False são usados para avaliar expressões lógicas.\n",
    "- None: um tipo especial que representa a ausência de um valor.\n",
    "\n",
    "Além desses tipos de dados nativos, Python também possui muitas bibliotecas padrão e de terceiros que fornecem tipos de dados mais complexos, como array/matrizes, dataframes, objetos de data e hora e muito mais..."
   ]
  },
  {
   "cell_type": "markdown",
   "metadata": {},
   "source": [
    "<div class=\"alert alert-block alert-warning\">\n",
    "<b>&#9997; EXEMPLO:</b> Criar uma variável do tipo inteiro, verificar o tipo e o tamanho dela na memória.\n",
    "</div>"
   ]
  },
  {
   "cell_type": "code",
   "execution_count": 50,
   "metadata": {
    "id": "yTwqTarPsAtZ"
   },
   "outputs": [
    {
     "name": "stdout",
     "output_type": "stream",
     "text": [
      "Tipo: <class 'int'>\n",
      "Tamanho: 28\n"
     ]
    }
   ],
   "source": [
    "# cria uma variável do tipo int (número inteiro)\n",
    "duzia = 12\n",
    "\n",
    "# verifica o tipo da variável\n",
    "print(\"Tipo:\", type(duzia))\n",
    "\n",
    "# verifica o tamanho (em bytes) da memória utilizada pela variável\n",
    "import sys\n",
    "\n",
    "print(\"Tamanho:\", sys.getsizeof(duzia))\n"
   ]
  },
  {
   "cell_type": "markdown",
   "metadata": {
    "id": "0wBXF3a_tx9I"
   },
   "source": [
    "Note que um número inteiro em Python ocupa **28 bytes**! Mas o esperado seriam 32 ou 64 bits, isto é, **4 ou 8 bytes**! Qual é a lógica disso? \n",
    "\n",
    "Ocorre que, em Python, int é uma classe e esse é o tamanho (em bytes) utilizado pela 'class int' com todas as suas referências (propriedades, métodos etc...). Com isso Python pode armazenar números gigantescos (sem restrição de dígitos) em uma variável inteira:"
   ]
  },
  {
   "cell_type": "code",
   "execution_count": 51,
   "metadata": {
    "colab": {
     "base_uri": "https://localhost:8080/"
    },
    "id": "lVWRnQvzwqpo",
    "outputId": "9c69af14-d443-494e-8593-acaf80aee602"
   },
   "outputs": [
    {
     "name": "stdout",
     "output_type": "stream",
     "text": [
      "Tipo = <class 'int'> | Tamanho = 36 bytes\n",
      "Valor =  19223372036854775808\n"
     ]
    }
   ],
   "source": [
    "duzia = 19223372036854775808\n",
    "print(\"Tipo =\", type(duzia), \"| Tamanho =\", sys.getsizeof(duzia), \"bytes\")\n",
    "print(\"Valor = \", duzia)\n"
   ]
  },
  {
   "cell_type": "code",
   "execution_count": 52,
   "metadata": {
    "colab": {
     "base_uri": "https://localhost:8080/"
    },
    "id": "0kAv9dMtwfPM",
    "outputId": "f3dc7efb-02f8-4d48-b298-fc306d94ac77"
   },
   "outputs": [
    {
     "name": "stdout",
     "output_type": "stream",
     "text": [
      "Tipo = <class 'float'> | Tamanho = 24 bytes\n"
     ]
    }
   ],
   "source": [
    "# modifica o tipo da variável para float (número real)\n",
    "duzia = 12.0\n",
    "print(\"Tipo =\", type(duzia), \"| Tamanho =\", sys.getsizeof(duzia), \"bytes\")\n"
   ]
  },
  {
   "cell_type": "code",
   "execution_count": 53,
   "metadata": {
    "colab": {
     "base_uri": "https://localhost:8080/"
    },
    "id": "3lqwdhwfxs8p",
    "outputId": "ad181c51-a0e0-411b-9522-4b5ead587d04"
   },
   "outputs": [
    {
     "name": "stdout",
     "output_type": "stream",
     "text": [
      "Tipo =  <class 'float'> | Tamanho = 24 bytes\n",
      "Valor =  inf\n"
     ]
    }
   ],
   "source": [
    "duzia = 1.7976931348623159e308\n",
    "print(\"Tipo = \", type(duzia), \"| Tamanho =\", sys.getsizeof(duzia), \"bytes\")\n",
    "print(\"Valor = \", duzia)\n"
   ]
  },
  {
   "cell_type": "markdown",
   "metadata": {
    "id": "cqq_bRiBzso2"
   },
   "source": [
    "<div class=\"alert alert-block alert-info\">\n",
    "💡 <b>NOTA:</b> Percebeu como o valor <b>float</b> ocupa menos memória que o valor <b>int</b>? Percebeu que o número virou infinito? Isso ocorre porque, em Python, valores que ultrapassam os limites da representação float são tidos como infinito (inf). Já o tipo inteiro praticamente não tem limites e pode, portanto, armazenar uma quatidade enorme de dígitos.\n",
    "</div>\n",
    "\n"
   ]
  },
  {
   "cell_type": "code",
   "execution_count": 54,
   "metadata": {},
   "outputs": [
    {
     "name": "stdout",
     "output_type": "stream",
     "text": [
      "Tipo =  <class 'numpy.int64'> | Tamanho = 8 bytes\n",
      "Valor =  20\n"
     ]
    }
   ],
   "source": [
    "# armazeando números com a biblioteca númerica padrão: NumPy\n",
    "import numpy as np\n",
    "\n",
    "idade = np.int64(20)\n",
    "print(\"Tipo = \", type(idade), \"| Tamanho =\", idade.nbytes, \"bytes\")\n",
    "print(\"Valor = \", idade)\n"
   ]
  },
  {
   "cell_type": "markdown",
   "metadata": {},
   "source": [
    "Diferentemente de `getsizeof`, a propriedade `nbytes` do NumPy retorna o número de bytes armazenados apenas pelo valor da variável, e não da classe (e suas propriedades/métodos) como um todo."
   ]
  },
  {
   "cell_type": "markdown",
   "metadata": {
    "id": "L6ieRwm00U7e"
   },
   "source": [
    "## ➥ Trabalhando com sequências\n",
    "---\n"
   ]
  },
  {
   "cell_type": "code",
   "execution_count": 55,
   "metadata": {},
   "outputs": [],
   "source": [
    "# criando uma variável do tipo string\n",
    "nome = \"Fulano\"\n"
   ]
  },
  {
   "cell_type": "code",
   "execution_count": 56,
   "metadata": {},
   "outputs": [
    {
     "name": "stdout",
     "output_type": "stream",
     "text": [
      "Tipo =  <class 'str'> | Tamanho = 55 bytes\n",
      "Valor =  Fulano\n"
     ]
    }
   ],
   "source": [
    "print(\"Tipo = \", type(nome), \"| Tamanho =\", sys.getsizeof(nome), \"bytes\")\n",
    "print(\"Valor = \", nome)\n"
   ]
  },
  {
   "cell_type": "code",
   "execution_count": 57,
   "metadata": {},
   "outputs": [
    {
     "data": {
      "text/plain": [
       "6"
      ]
     },
     "execution_count": 57,
     "metadata": {},
     "output_type": "execute_result"
    }
   ],
   "source": [
    "# contando o número de caracteres da string\n",
    "len(nome)\n"
   ]
  },
  {
   "cell_type": "code",
   "execution_count": 58,
   "metadata": {},
   "outputs": [
    {
     "name": "stdout",
     "output_type": "stream",
     "text": [
      "Fulano\n",
      "de Tal\n",
      "Fulano de Tal\n"
     ]
    }
   ],
   "source": [
    "# python permite múltiplas atribuições na mesma linha\n",
    "nome, sobrenome = \"Fulano\", \"de Tal\"\n",
    "\n",
    "print(nome)\n",
    "print(sobrenome)\n",
    "print(nome, sobrenome)\n"
   ]
  },
  {
   "cell_type": "code",
   "execution_count": 59,
   "metadata": {},
   "outputs": [],
   "source": [
    "# atribuindo diversos valores a uma única variável\n",
    "nome = \"Fulano\", \"de\", \"Tal\"\n"
   ]
  },
  {
   "cell_type": "code",
   "execution_count": 60,
   "metadata": {},
   "outputs": [
    {
     "name": "stdout",
     "output_type": "stream",
     "text": [
      "('Fulano', 'de', 'Tal')\n",
      "O tipo dessa variável é:  <class 'tuple'>\n"
     ]
    }
   ],
   "source": [
    "print(nome)\n",
    "print(\"O tipo dessa variável é: \", type(nome))\n"
   ]
  },
  {
   "cell_type": "code",
   "execution_count": 61,
   "metadata": {},
   "outputs": [
    {
     "name": "stdout",
     "output_type": "stream",
     "text": [
      "Fulano\n",
      "de\n",
      "Tal\n"
     ]
    }
   ],
   "source": [
    "print(nome[0])\n",
    "print(nome[1])\n",
    "print(nome[2])"
   ]
  },
  {
   "cell_type": "code",
   "execution_count": 62,
   "metadata": {},
   "outputs": [
    {
     "name": "stdout",
     "output_type": "stream",
     "text": [
      "Fulano de Tal\n"
     ]
    }
   ],
   "source": [
    "print(nome[0], nome[1], nome[2])"
   ]
  },
  {
   "cell_type": "markdown",
   "metadata": {},
   "source": [
    "Vamos investigar a diferença entre uma **tupla** e uma **lista**:"
   ]
  },
  {
   "cell_type": "code",
   "execution_count": 63,
   "metadata": {},
   "outputs": [],
   "source": [
    "endereco = [\"SQN 101\", \"Bloco A\", \"Apt. 101\"]"
   ]
  },
  {
   "cell_type": "code",
   "execution_count": 64,
   "metadata": {},
   "outputs": [
    {
     "name": "stdout",
     "output_type": "stream",
     "text": [
      "['SQN 101', 'Bloco A', 'Apt. 101']\n",
      "<class 'list'>\n"
     ]
    }
   ],
   "source": [
    "print(endereco)\n",
    "print(type(endereco))"
   ]
  },
  {
   "cell_type": "code",
   "execution_count": 65,
   "metadata": {},
   "outputs": [
    {
     "data": {
      "text/plain": [
       "'SQN 101'"
      ]
     },
     "execution_count": 65,
     "metadata": {},
     "output_type": "execute_result"
    }
   ],
   "source": [
    "# primeiro elemento da lista\n",
    "endereco[0]"
   ]
  },
  {
   "cell_type": "code",
   "execution_count": 66,
   "metadata": {},
   "outputs": [
    {
     "data": {
      "text/plain": [
       "['SQN 210', 'Bloco A', 'Apt. 101']"
      ]
     },
     "execution_count": 66,
     "metadata": {},
     "output_type": "execute_result"
    }
   ],
   "source": [
    "# os elementos de uma lista podem ser modificados\n",
    "endereco[0] = \"SQN 210\"\n",
    "endereco"
   ]
  },
  {
   "cell_type": "code",
   "execution_count": 68,
   "metadata": {},
   "outputs": [
    {
     "ename": "TypeError",
     "evalue": "'tuple' object does not support item assignment",
     "output_type": "error",
     "traceback": [
      "\u001b[1;31m---------------------------------------------------------------------------\u001b[0m",
      "\u001b[1;31mTypeError\u001b[0m                                 Traceback (most recent call last)",
      "\u001b[1;32md:\\Temp\\mca02-python-basico.ipynb Cell 26\u001b[0m line \u001b[0;36m2\n\u001b[0;32m      <a href='vscode-notebook-cell:/d%3A/Temp/mca02-python-basico.ipynb#X34sZmlsZQ%3D%3D?line=0'>1</a>\u001b[0m \u001b[39m# uma tupla não pode ser modificada\u001b[39;00m\n\u001b[1;32m----> <a href='vscode-notebook-cell:/d%3A/Temp/mca02-python-basico.ipynb#X34sZmlsZQ%3D%3D?line=1'>2</a>\u001b[0m nome[\u001b[39m0\u001b[39;49m] \u001b[39m=\u001b[39m \u001b[39m\"\u001b[39m\u001b[39mSicrano\u001b[39m\u001b[39m\"\u001b[39m\n",
      "\u001b[1;31mTypeError\u001b[0m: 'tuple' object does not support item assignment"
     ]
    }
   ],
   "source": [
    "# uma tupla não pode ser modificada\n",
    "nome[0] = \"Sicrano\""
   ]
  },
  {
   "cell_type": "markdown",
   "metadata": {},
   "source": [
    "Como podemos ver, a variável do tipo Tupla é **imutável**, enquanto uma lista pode ter seus elementos modificados *a posteriori*. "
   ]
  },
  {
   "cell_type": "markdown",
   "metadata": {},
   "source": [
    "Vejamos agora como adicionar, remover e iterar sobre os elementos de uma lista:"
   ]
  },
  {
   "cell_type": "code",
   "execution_count": 78,
   "metadata": {},
   "outputs": [
    {
     "name": "stdout",
     "output_type": "stream",
     "text": [
      "4 está na lista\n",
      "1\n",
      "4\n",
      "5\n",
      "6\n"
     ]
    }
   ],
   "source": [
    "# Criar uma nova lista\n",
    "lista = [1, 2, 3, 4, 5]\n",
    "\n",
    "# Acessar elementos\n",
    "primeiro_elemento = lista[0]  # Indexação começa em 0\n",
    "último_elemento = lista[-1]   # Acesso ao último elemento\n",
    "\n",
    "# Adicionar elementos\n",
    "lista.append(6)  # Adiciona 6 no final da lista\n",
    "\n",
    "# Remover elementos\n",
    "lista.remove(3)  # Remove o elemento 3\n",
    "del lista[1]     # Remove o segundo elemento (índice 1)\n",
    "\n",
    "# Tamanho da lista\n",
    "tamanho = len(lista)\n",
    "\n",
    "# Verificar se um elemento está na lista\n",
    "if 4 in lista:\n",
    "    print(\"4 está na lista\")\n",
    "\n",
    "# Iterar pela lista\n",
    "for elemento in lista:\n",
    "    print(elemento)"
   ]
  },
  {
   "cell_type": "markdown",
   "metadata": {},
   "source": [
    "Um **conjunto** é uma coleção mutável de elementos únicos, sem ordenação."
   ]
  },
  {
   "cell_type": "code",
   "execution_count": 79,
   "metadata": {},
   "outputs": [
    {
     "name": "stdout",
     "output_type": "stream",
     "text": [
      "3 está no conjunto\n",
      "1\n",
      "3\n",
      "4\n"
     ]
    }
   ],
   "source": [
    "# Criar um conjunto\n",
    "conjunto = {1, 2, 3}\n",
    "\n",
    "# Adicionar elementos\n",
    "conjunto.add(4)\n",
    "\n",
    "# Remover elementos\n",
    "conjunto.remove(2)\n",
    "\n",
    "# Verificar se um elemento está no conjunto\n",
    "if 3 in conjunto:\n",
    "    print(\"3 está no conjunto\")\n",
    "\n",
    "# Iterar pelo conjunto\n",
    "for elemento in conjunto:\n",
    "    print(elemento)"
   ]
  },
  {
   "cell_type": "markdown",
   "metadata": {},
   "source": [
    "## ➥ Usando dicionários\n",
    "---\n",
    "\n",
    "Um dicionário é uma coleção mutável de pares chave-valor."
   ]
  },
  {
   "cell_type": "code",
   "execution_count": 80,
   "metadata": {},
   "outputs": [
    {
     "name": "stdout",
     "output_type": "stream",
     "text": [
      "Cidade está no dicionário\n",
      "nome: João\n",
      "cidade: São Paulo\n",
      "profissão: Engenheiro\n"
     ]
    }
   ],
   "source": [
    "# Criar um dicionário\n",
    "dicionario = {'nome': 'João', 'idade': 30, 'cidade': 'São Paulo'}\n",
    "\n",
    "# Acessar valores\n",
    "nome = dicionario['nome']\n",
    "\n",
    "# Adicionar um novo par chave-valor\n",
    "dicionario['profissão'] = 'Engenheiro'\n",
    "\n",
    "# Remover um par chave-valor\n",
    "del dicionario['idade']\n",
    "\n",
    "# Verificar se uma chave está no dicionário\n",
    "if 'cidade' in dicionario:\n",
    "    print(\"Cidade está no dicionário\")\n",
    "\n",
    "# Iterar pelo dicionário\n",
    "for chave, valor in dicionario.items():\n",
    "    print(f\"{chave}: {valor}\")"
   ]
  },
  {
   "cell_type": "markdown",
   "metadata": {},
   "source": [
    "## ➥ Usando list comprehensions\n",
    "---\n",
    "\n",
    "As list comprehensions são uma maneira concisa e poderosa de criar listas em Python. Elas permitem que você crie listas de maneira mais legível e eficiente do que usando loops convencionais. "
   ]
  },
  {
   "cell_type": "markdown",
   "metadata": {},
   "source": [
    "### Básico\n",
    "\n",
    "**Sintaxe Básica:**\n",
    "\n",
    "```python\n",
    "nova_lista = [expressao for item in sequencia]\n",
    "```\n",
    "\n",
    "- `nova_lista`: A lista resultante.\n",
    "- `expressao`: A expressão que define como cada item da sequência será transformado.\n",
    "- `item`: A variável temporária que representa cada item da sequência.\n",
    "- `sequencia`: A sequência de itens que você deseja percorrer.\n",
    "\n",
    "**Exemplo Básico:**\n",
    "\n",
    "Suponha que você queira criar uma lista dos quadrados dos números de 0 a 9:"
   ]
  },
  {
   "cell_type": "code",
   "execution_count": 81,
   "metadata": {},
   "outputs": [
    {
     "name": "stdout",
     "output_type": "stream",
     "text": [
      "[0, 1, 4, 9, 16, 25, 36, 49, 64, 81]\n"
     ]
    }
   ],
   "source": [
    "quadrados = [x**2 for x in range(10)]\n",
    "print(quadrados)"
   ]
  },
  {
   "cell_type": "markdown",
   "metadata": {},
   "source": [
    "Este código cria uma lista chamada `quadrados` onde cada elemento é o quadrado do número de 0 a 9."
   ]
  },
  {
   "cell_type": "markdown",
   "metadata": {},
   "source": [
    "### Condições\n",
    "\n",
    "Você pode adicionar condições para filtrar os itens da sequência.\n",
    "\n",
    "**Sintaxe com Condição:**\n",
    "\n",
    "```python\n",
    "nova_lista = [expressao for item in sequencia if condicao]\n",
    "```\n",
    "\n",
    "**Exemplo com Condição:**\n",
    "\n",
    "Vamos criar uma lista de números pares de 0 a 9:\n"
   ]
  },
  {
   "cell_type": "code",
   "execution_count": 82,
   "metadata": {},
   "outputs": [
    {
     "name": "stdout",
     "output_type": "stream",
     "text": [
      "[0, 2, 4, 6, 8]\n"
     ]
    }
   ],
   "source": [
    "pares = [x for x in range(10) if x % 2 == 0]\n",
    "print(pares)"
   ]
  },
  {
   "cell_type": "markdown",
   "metadata": {},
   "source": [
    "Aqui, a condição `x % 2 == 0` filtra os números pares."
   ]
  },
  {
   "cell_type": "markdown",
   "metadata": {},
   "source": [
    "### Expressões Aninhadas\n",
    "\n",
    "Você também pode usar list comprehensions com expressões aninhadas para criar listas mais complexas.\n",
    "\n",
    "**Sintaxe com Expressões Aninhadas:**\n",
    "\n",
    "```python\n",
    "nova_lista = [expressao_externa for item_ext in sequencia_ext if condicao_ext for expressao_interna in sequencia_int if condicao_int]\n",
    "```\n",
    "\n",
    "**Exemplo com Expressões Aninhadas:**\n",
    "\n",
    "Suponha que você queira criar uma lista de todas as combinações possíveis de pares de números de 0 a 2:\n"
   ]
  },
  {
   "cell_type": "code",
   "execution_count": 83,
   "metadata": {},
   "outputs": [
    {
     "name": "stdout",
     "output_type": "stream",
     "text": [
      "[(0, 0), (0, 1), (0, 2), (1, 0), (1, 1), (1, 2), (2, 0), (2, 1), (2, 2)]\n"
     ]
    }
   ],
   "source": [
    "combinacoes = [(x, y) for x in range(3) for y in range(3)]\n",
    "print(combinacoes)"
   ]
  },
  {
   "cell_type": "markdown",
   "metadata": {},
   "source": [
    "Neste exemplo, usamos duas list comprehensions aninhadas para criar as combinações."
   ]
  },
  {
   "cell_type": "markdown",
   "metadata": {},
   "source": [
    "### Uso Avançado\n",
    "\n",
    "Você também pode usar list comprehensions com funções, dicionários e até mesmo condicionais ternárias para criar listas mais avançadas.\n",
    "\n",
    "**Exemplo com Função:**\n",
    "\n",
    "Vamos criar uma lista de strings convertidas para letras maiúsculas:\n"
   ]
  },
  {
   "cell_type": "code",
   "execution_count": 84,
   "metadata": {},
   "outputs": [
    {
     "name": "stdout",
     "output_type": "stream",
     "text": [
      "['PYTHON', 'É', 'LEGAL']\n"
     ]
    }
   ],
   "source": [
    "palavras = [\"python\", \"é\", \"legal\"]\n",
    "maiúsculas = [palavra.upper() for palavra in palavras]\n",
    "print(maiúsculas)"
   ]
  },
  {
   "cell_type": "markdown",
   "metadata": {},
   "source": [
    "**Exemplo com Dicionário:**\n",
    "\n",
    "Suponha que você tenha um dicionário e queira criar uma lista de chaves que correspondam a valores específicos:"
   ]
  },
  {
   "cell_type": "code",
   "execution_count": 85,
   "metadata": {},
   "outputs": [
    {
     "name": "stdout",
     "output_type": "stream",
     "text": [
      "['a', 'c']\n"
     ]
    }
   ],
   "source": [
    "dicionario = {\"a\": 1, \"b\": 2, \"c\": 1}\n",
    "chaves_para_1 = [chave for chave, valor in dicionario.items() if valor == 1]\n",
    "print(chaves_para_1)"
   ]
  },
  {
   "cell_type": "markdown",
   "metadata": {},
   "source": [
    "**Exemplo com Condicional Ternária:**\n",
    "\n",
    "Você pode usar a condicional ternária dentro de uma list comprehension para aplicar diferentes expressões com base em uma condição."
   ]
  },
  {
   "cell_type": "code",
   "execution_count": 86,
   "metadata": {},
   "outputs": [
    {
     "name": "stdout",
     "output_type": "stream",
     "text": [
      "['ímpar', 'par', 'ímpar', 'par', 'ímpar']\n"
     ]
    }
   ],
   "source": [
    "numeros = [1, 2, 3, 4, 5]\n",
    "resultado = [\"par\" if num % 2 == 0 else \"ímpar\" for num in numeros]\n",
    "print(resultado)"
   ]
  },
  {
   "cell_type": "markdown",
   "metadata": {},
   "source": [
    "## ➥ Usando NumPy\n",
    "---\n",
    "\n",
    "NumPy é uma biblioteca Python fundamental para operações numéricas e com matrizes."
   ]
  },
  {
   "cell_type": "markdown",
   "metadata": {},
   "source": [
    "\n",
    "\n",
    "### 1. Instalando o NumPy:\n",
    "\n",
    "   Você pode instalar o NumPy usando o pip, se ainda não o tiver feito:\n",
    "\n",
    "```bash\n",
    "pip install numpy\n",
    "```\n",
    "\n",
    "### 2. Importando o NumPy:\n",
    "\n",
    "   Após a instalação, você precisa importar o NumPy para o seu script Python ou notebook Jupyter:\n",
    "\n",
    "```python\n",
    "import numpy as np\n",
    "```\n",
    "\n",
    "### 3. Criando Arrays:\n",
    "\n",
    "O NumPy lida principalmente com arrays. Você pode criar arrays de várias maneiras:\n",
    "\n",
    "- A partir de uma Lista Python:\n",
    "\n",
    "```python\n",
    "minha_lista = [1, 2, 3, 4, 5]\n",
    "meu_array = np.array(minha_lista)\n",
    "```\n",
    "\n",
    "- Usando Funções Internas:\n",
    "\n",
    "```python\n",
    "# Criar um array de zeros\n",
    "array_zeros = np.zeros(5)\n",
    "\n",
    "# Criar um array de uns\n",
    "array_uns = np.ones(3)\n",
    "\n",
    "# Criar um array de números aleatórios\n",
    "array_aleatorio = np.random.rand(4)\n",
    "```\n",
    "\n",
    "- Usando Funções do NumPy:\n",
    "\n",
    "```python\n",
    "# Criar um array uniformemente espaçado\n",
    "array_uniforme = np.arange(0, 10, 2)  # Início, Fim, Passo\n",
    "\n",
    "# Criar um array espaçado linearmente\n",
    "array_espacamento_linear = np.linspace(0, 1, 5)  # Início, Fim, Número de Pontos\n",
    "```\n",
    "\n",
    "### 4. Atributos do Array:\n",
    "\n",
    "Você pode acessar vários atributos dos arrays do NumPy:\n",
    "\n",
    "- Forma (shape): Retorna as dimensões do array.\n",
    "\n",
    "```python\n",
    "meu_array.shape\n",
    "```\n",
    "\n",
    "- Tamanho (size): Retorna o número total de elementos no array.\n",
    "\n",
    "```python\n",
    "meu_array.size\n",
    "```\n",
    "\n",
    "- Tipo de Dados (dtype): Retorna o tipo de dados dos elementos no array.\n",
    "\n",
    "```python\n",
    "meu_array.dtype\n",
    "```\n",
    "\n",
    "### 5. Indexação e Fatiamento:\n",
    "\n",
    "Acessar elementos ou subarrays em arrays do NumPy é semelhante às listas Python:\n",
    "\n",
    "```python\n",
    "# Acessando elementos\n",
    "elemento = meu_array[2]\n",
    "\n",
    "# Fatiamento\n",
    "sub_array = meu_array[1:4]  # Elementos do índice 1 ao 3\n",
    "```\n",
    "\n",
    "### 6. Operações Matemáticas:\n",
    "\n",
    "O NumPy oferece suporte extenso para operações matemáticas em arrays:\n",
    "\n",
    "```python\n",
    "# Operações elemento a elemento\n",
    "resultado = meu_array + 2\n",
    "resultado = meu_array * 3\n",
    "\n",
    "# Operações de array\n",
    "produto_escalar = np.dot(meu_array, outro_array)\n",
    "valor_medio = np.mean(meu_array)\n",
    "```\n",
    "\n",
    "### 7. Manipulação de Arrays:\n",
    "\n",
    "Você pode remodelar, concatenar e transpor arrays:\n",
    "\n",
    "```python\n",
    "array_remodelado = meu_array.reshape(2, 3)  # Remodelar para uma matriz 2x3\n",
    "array_concatenado = np.concatenate([meu_array, outro_array])\n",
    "array_transposto = meu_array.T  # Transpor o array\n",
    "```\n",
    "\n",
    "### 8. Funções Universais (ufunc):\n",
    "\n",
    "O NumPy fornece muitas funções internas para operações comuns, como raiz quadrada, exponencial, funções trigonométricas e muito mais. Essas funções operam elemento a elemento em arrays.\n",
    "\n",
    "```python\n",
    "raiz_quadrada = np.sqrt(meu_array)\n",
    "exponencial = np.exp(meu_array)\n",
    "```\n",
    "\n",
    "### 9. Comparação de Arrays:\n",
    "\n",
    "Você pode comparar arrays elemento a elemento e obter arrays booleanos como resultado.\n",
    "\n",
    "```python\n",
    "array_booleano = meu_array > 3\n",
    "```\n",
    "\n",
    "### 10. Broadcasting:\n",
    "\n",
    "O NumPy permite realizar operações em arrays de formas diferentes, transmitindo o array menor para corresponder à forma do maior, se possível.\n",
    "\n",
    "```python\n",
    "resultado = meu_array + 2  # Transmitindo o escalar 2 para corresponder à forma de meu_array\n",
    "```\n"
   ]
  }
 ],
 "metadata": {
  "colab": {
   "provenance": []
  },
  "kernelspec": {
   "display_name": "Python 3 (ipykernel)",
   "language": "python",
   "name": "python3"
  },
  "language_info": {
   "codemirror_mode": {
    "name": "ipython",
    "version": 3
   },
   "file_extension": ".py",
   "mimetype": "text/x-python",
   "name": "python",
   "nbconvert_exporter": "python",
   "pygments_lexer": "ipython3",
   "version": "3.11.4"
  }
 },
 "nbformat": 4,
 "nbformat_minor": 4
}
