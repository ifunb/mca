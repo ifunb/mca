{
 "cells": [
  {
   "cell_type": "markdown",
   "metadata": {},
   "source": [
    "<div style=\"width:90%; text-align:center; border-width: 0px; display:block; margin-left:auto; margin-right:auto;\">\n",
    "<div class=\"alert alert-block alert-success\" style=\"text-align:center; color:navy;\">\n",
    "<img src=\"https://raw.githubusercontent.com/bgeneto/MCA/main/imagens/logo_unb.png\" style=\"width: 200px; opacity:0.85;\">\n",
    "<h1>Universidade de Brasília</h1>\n",
    "<h2>Instituto de Física</h2>\n",
    "<hr style=\"width:44%;border:1px solid navy;\">\n",
    "<h3>Métodos Computacionais A (MCA)</h3> \n",
    "<h4>Prof. Bernhard Enders</h4>\n",
    "<hr style=\"width:44%;border:1px solid navy;\">\n",
    "</div>\n",
    "</div>"
   ]
  },
  {
   "cell_type": "markdown",
   "metadata": {
    "id": "mcfrEwo0ruK4"
   },
   "source": [
    "# **➲ Aula 02 - Introdução à Linguagem Python**\n",
    "\n",
    "## ➥ Quais são os tipos de dados nativos em Python?\n",
    "---\n",
    "\n",
    "Python é uma linguagem de programação dinamicamente tipada. Mas isso não significa que ela não possua tipos de dados intrínsecos. \n",
    "\n",
    "Na verdade, Python é uma linguagem de programação fortemente tipada. Isso significa que as variáveis ​​em Python são associadas a um tipo de dado específico e não podem ser usadas de maneira inconsistente com esse tipo. Por exemplo, uma variável declarada como uma string não pode ser usada como um número sem ser convertida primeiro. \n",
    "\n",
    "Isso é diferente de linguagens de programação fracamente tipadas, onde as variáveis ​​podem ser usadas de maneira mais flexível e dinâmica, sem a necessidade de declarações de tipo explícitas. A tipagem forte de Python ajuda a evitar erros comuns de programação e aumenta a segurança e confiabilidade do código.\n",
    "\n",
    "Python suporta vários tipos de dados nativos, incluindo:\n",
    "\n",
    " - Números: inteiros, números de ponto flutuante e números complexos.\n",
    "- Sequências: strings, listas e tuplas.\n",
    "- Dicionários: um tipo de mapeamento que associa um conjunto de chaves a um conjunto de valores.\n",
    "- Conjuntos: um tipo de coleção que armazena itens únicos em ordem não definida.\n",
    "- Booleanos: os valores True e False são usados para avaliar expressões lógicas.\n",
    "- None: um tipo especial que representa a ausência de um valor.\n",
    "\n",
    "Além desses tipos de dados nativos, Python também possui muitas bibliotecas padrão e de terceiros que fornecem tipos de dados mais complexos, como array/matrizes, dataframes, objetos de data e hora e muito mais..."
   ]
  },
  {
   "cell_type": "markdown",
   "metadata": {},
   "source": [
    "<div class=\"alert alert-block alert-warning\">\n",
    "<b>&#9997; EXEMPLO:</b> Criar uma variável do tipo inteiro, verificar o tipo e o tamanho dela na memória.\n",
    "</div>"
   ]
  },
  {
   "cell_type": "code",
   "execution_count": 109,
   "metadata": {
    "id": "yTwqTarPsAtZ"
   },
   "outputs": [
    {
     "name": "stdout",
     "output_type": "stream",
     "text": [
      "Tipo: <class 'int'>\n",
      "Tamanho: 28\n"
     ]
    }
   ],
   "source": [
    "# cria uma variável do tipo int (número inteiro)\n",
    "duzia = 12\n",
    "\n",
    "# verifica o tipo da variável\n",
    "print(\"Tipo:\", type(duzia))\n",
    "\n",
    "# verifica o tamanho (em bytes) da memória utilizada pela variável\n",
    "import sys\n",
    "\n",
    "print(\"Tamanho:\", sys.getsizeof(duzia))\n"
   ]
  },
  {
   "cell_type": "markdown",
   "metadata": {
    "id": "0wBXF3a_tx9I"
   },
   "source": [
    "Note que um número inteiro em Python ocupa **28 bytes**! Mas o esperado seriam 32 ou 64 bits, isto é, **4 ou 8 bytes**! Qual é a lógica disso? \n",
    "\n",
    "Ocorre que, em Python, int é uma classe e esse é o tamanho (em bytes) utilizado pela 'class int' com todas as suas referências (propriedades, métodos etc...). Com isso Python pode armazenar números gigantescos (sem restrição de dígitos) em uma variável inteira:"
   ]
  },
  {
   "cell_type": "code",
   "execution_count": 110,
   "metadata": {
    "colab": {
     "base_uri": "https://localhost:8080/"
    },
    "id": "lVWRnQvzwqpo",
    "outputId": "9c69af14-d443-494e-8593-acaf80aee602"
   },
   "outputs": [
    {
     "name": "stdout",
     "output_type": "stream",
     "text": [
      "Tipo = <class 'int'> | Tamanho = 36 bytes\n",
      "Valor =  19223372036854775808\n"
     ]
    }
   ],
   "source": [
    "duzia = 19223372036854775808\n",
    "print(\"Tipo =\", type(duzia), \"| Tamanho =\", sys.getsizeof(duzia), \"bytes\")\n",
    "print(\"Valor = \", duzia)\n"
   ]
  },
  {
   "cell_type": "code",
   "execution_count": 111,
   "metadata": {
    "colab": {
     "base_uri": "https://localhost:8080/"
    },
    "id": "0kAv9dMtwfPM",
    "outputId": "f3dc7efb-02f8-4d48-b298-fc306d94ac77"
   },
   "outputs": [
    {
     "name": "stdout",
     "output_type": "stream",
     "text": [
      "Tipo = <class 'float'> | Tamanho = 24 bytes\n"
     ]
    }
   ],
   "source": [
    "# modifica o tipo da variável para float (número real)\n",
    "duzia = 12.0\n",
    "print(\"Tipo =\", type(duzia), \"| Tamanho =\", sys.getsizeof(duzia), \"bytes\")\n"
   ]
  },
  {
   "cell_type": "code",
   "execution_count": 112,
   "metadata": {
    "colab": {
     "base_uri": "https://localhost:8080/"
    },
    "id": "3lqwdhwfxs8p",
    "outputId": "ad181c51-a0e0-411b-9522-4b5ead587d04"
   },
   "outputs": [
    {
     "name": "stdout",
     "output_type": "stream",
     "text": [
      "Tipo =  <class 'float'> | Tamanho = 24 bytes\n",
      "Valor =  inf\n"
     ]
    }
   ],
   "source": [
    "duzia = 1.7976931348623159e308\n",
    "print(\"Tipo = \", type(duzia), \"| Tamanho =\", sys.getsizeof(duzia), \"bytes\")\n",
    "print(\"Valor = \", duzia)\n"
   ]
  },
  {
   "cell_type": "markdown",
   "metadata": {
    "id": "cqq_bRiBzso2"
   },
   "source": [
    "<div class=\"alert alert-block alert-info\">\n",
    "💡 <b>NOTA:</b> Percebeu como o valor <b>float</b> ocupa menos memória que o valor <b>int</b>? Percebeu que o número virou infinito? Isso ocorre porque, em Python, valores que ultrapassam os limites da representação float são tidos como infinito (inf). Já o tipo inteiro praticamente não tem limites e pode, portanto, armazenar uma quatidade enorme de dígitos.\n",
    "</div>\n",
    "\n"
   ]
  },
  {
   "cell_type": "code",
   "execution_count": 113,
   "metadata": {},
   "outputs": [
    {
     "name": "stdout",
     "output_type": "stream",
     "text": [
      "Tipo =  <class 'numpy.int64'> | Tamanho = 8 bytes\n",
      "Valor =  20\n"
     ]
    }
   ],
   "source": [
    "# armazeando números com a biblioteca númerica padrão: NumPy\n",
    "import numpy as np\n",
    "\n",
    "idade = np.int64(20)\n",
    "print(\"Tipo = \", type(idade), \"| Tamanho =\", idade.nbytes, \"bytes\")\n",
    "print(\"Valor = \", idade)\n"
   ]
  },
  {
   "cell_type": "markdown",
   "metadata": {},
   "source": [
    "Diferentemente de `getsizeof`, a propriedade `nbytes` do NumPy retorna o número de bytes armazenados apenas pelo valor da variável, e não da classe (e suas propriedades/métodos) como um todo."
   ]
  },
  {
   "cell_type": "markdown",
   "metadata": {
    "id": "L6ieRwm00U7e"
   },
   "source": [
    "## ➥ Trabalhando com sequências\n",
    "---\n"
   ]
  },
  {
   "cell_type": "code",
   "execution_count": 114,
   "metadata": {},
   "outputs": [],
   "source": [
    "# criarndo uma variável do tipo string\n",
    "nome = \"Fulano\"\n"
   ]
  },
  {
   "cell_type": "code",
   "execution_count": 115,
   "metadata": {},
   "outputs": [
    {
     "name": "stdout",
     "output_type": "stream",
     "text": [
      "Tipo =  <class 'str'> | Tamanho = 55 bytes\n",
      "Valor =  Fulano\n"
     ]
    }
   ],
   "source": [
    "print(\"Tipo = \", type(nome), \"| Tamanho =\", sys.getsizeof(nome), \"bytes\")\n",
    "print(\"Valor = \", nome)\n"
   ]
  },
  {
   "cell_type": "code",
   "execution_count": 116,
   "metadata": {},
   "outputs": [
    {
     "data": {
      "text/plain": [
       "6"
      ]
     },
     "execution_count": 116,
     "metadata": {},
     "output_type": "execute_result"
    }
   ],
   "source": [
    "# contando o número de caracteres da string\n",
    "len(nome)\n"
   ]
  },
  {
   "cell_type": "code",
   "execution_count": 117,
   "metadata": {},
   "outputs": [
    {
     "name": "stdout",
     "output_type": "stream",
     "text": [
      "Fulano\n",
      "de Tal\n",
      "Fulano de Tal\n"
     ]
    }
   ],
   "source": [
    "# python permite múltiplas atribuições na mesma linha\n",
    "nome, sobrenome = \"Fulano\", \"de Tal\"\n",
    "\n",
    "print(nome)\n",
    "print(sobrenome)\n",
    "print(nome, sobrenome)\n"
   ]
  },
  {
   "cell_type": "code",
   "execution_count": 118,
   "metadata": {},
   "outputs": [],
   "source": [
    "# atribuindo diversos valores a uma única variável\n",
    "nome = \"Fulano\", \"de\", \"Tal\"\n"
   ]
  },
  {
   "cell_type": "code",
   "execution_count": 119,
   "metadata": {},
   "outputs": [
    {
     "name": "stdout",
     "output_type": "stream",
     "text": [
      "('Fulano', 'de', 'Tal')\n",
      "<class 'tuple'>\n"
     ]
    }
   ],
   "source": [
    "print(nome)\n",
    "print(type(nome))\n"
   ]
  },
  {
   "cell_type": "code",
   "execution_count": 120,
   "metadata": {},
   "outputs": [
    {
     "name": "stdout",
     "output_type": "stream",
     "text": [
      "Fulano\n",
      "de\n",
      "Tal\n"
     ]
    }
   ],
   "source": [
    "print(nome[0])\n",
    "print(nome[1])\n",
    "print(nome[2])\n"
   ]
  },
  {
   "cell_type": "code",
   "execution_count": 121,
   "metadata": {},
   "outputs": [
    {
     "name": "stdout",
     "output_type": "stream",
     "text": [
      "Fulano de Tal\n"
     ]
    }
   ],
   "source": [
    "print(nome[0], nome[1], nome[2])\n"
   ]
  },
  {
   "cell_type": "markdown",
   "metadata": {},
   "source": [
    "Vamos investigar a diferença entre uma **tupla** e uma **lista**:"
   ]
  },
  {
   "cell_type": "code",
   "execution_count": 122,
   "metadata": {},
   "outputs": [],
   "source": [
    "endereco = [\"SQN 110\", \"Bloco A\", \"Apt. 101\"]\n"
   ]
  },
  {
   "cell_type": "code",
   "execution_count": 123,
   "metadata": {},
   "outputs": [
    {
     "name": "stdout",
     "output_type": "stream",
     "text": [
      "['SQN 110', 'Bloco A', 'Apt. 101']\n",
      "<class 'list'>\n"
     ]
    }
   ],
   "source": [
    "print(endereco)\n",
    "print(type(endereco))\n"
   ]
  },
  {
   "cell_type": "code",
   "execution_count": 124,
   "metadata": {},
   "outputs": [
    {
     "data": {
      "text/plain": [
       "'SQN 110'"
      ]
     },
     "execution_count": 124,
     "metadata": {},
     "output_type": "execute_result"
    }
   ],
   "source": [
    "endereco[0]\n"
   ]
  },
  {
   "cell_type": "code",
   "execution_count": 125,
   "metadata": {},
   "outputs": [
    {
     "data": {
      "text/plain": [
       "['SQN 210', 'Bloco A', 'Apt. 101']"
      ]
     },
     "execution_count": 125,
     "metadata": {},
     "output_type": "execute_result"
    }
   ],
   "source": [
    "endereco[0] = \"SQN 210\"\n",
    "endereco\n"
   ]
  },
  {
   "cell_type": "code",
   "execution_count": 126,
   "metadata": {},
   "outputs": [
    {
     "ename": "TypeError",
     "evalue": "'tuple' object does not support item assignment",
     "output_type": "error",
     "traceback": [
      "\u001b[0;31m---------------------------------------------------------------------------\u001b[0m",
      "\u001b[0;31mTypeError\u001b[0m                                 Traceback (most recent call last)",
      "Cell \u001b[0;32mIn[126], line 1\u001b[0m\n\u001b[0;32m----> 1\u001b[0m nome[\u001b[39m0\u001b[39m] \u001b[39m=\u001b[39m \u001b[39m\"\u001b[39m\u001b[39mSicrano\u001b[39m\u001b[39m\"\u001b[39m\n",
      "\u001b[0;31mTypeError\u001b[0m: 'tuple' object does not support item assignment"
     ]
    }
   ],
   "source": [
    "nome[0] = \"Sicrano\"\n"
   ]
  },
  {
   "cell_type": "markdown",
   "metadata": {},
   "source": [
    "Como podemos ver, a variável do tipo Tupla é **imutável**, enquanto uma lista pode ter seus elementos modificados *a posteriori*. "
   ]
  },
  {
   "cell_type": "markdown",
   "metadata": {},
   "source": [
    "## ➥ Usando dicionários\n",
    "---"
   ]
  },
  {
   "cell_type": "code",
   "execution_count": null,
   "metadata": {},
   "outputs": [
    {
     "data": {
      "text/plain": [
       "{'marca': 'Ford', 'modelo': 'Mustang', 'ano': 2023}"
      ]
     },
     "execution_count": 85,
     "metadata": {},
     "output_type": "execute_result"
    }
   ],
   "source": [
    "carro = {\"marca\": \"Ford\", \"modelo\": \"Mustang\", \"ano\": 2023}\n",
    "carro"
   ]
  },
  {
   "cell_type": "code",
   "execution_count": null,
   "metadata": {},
   "outputs": [
    {
     "data": {
      "text/plain": [
       "'Ford'"
      ]
     },
     "execution_count": 86,
     "metadata": {},
     "output_type": "execute_result"
    }
   ],
   "source": [
    "carro[\"marca\"]"
   ]
  },
  {
   "cell_type": "code",
   "execution_count": null,
   "metadata": {},
   "outputs": [],
   "source": [
    "carro[\"modelo\"] = \"Escort\"\n",
    "carro[\"ano\"] = 1983"
   ]
  },
  {
   "cell_type": "code",
   "execution_count": null,
   "metadata": {},
   "outputs": [
    {
     "data": {
      "text/plain": [
       "{'marca': 'Ford', 'modelo': 'Escort', 'ano': 1983}"
      ]
     },
     "execution_count": 90,
     "metadata": {},
     "output_type": "execute_result"
    }
   ],
   "source": [
    "carro"
   ]
  }
 ],
 "metadata": {
  "colab": {
   "provenance": []
  },
  "kernelspec": {
   "display_name": "Python 3 (ipykernel)",
   "language": "python",
   "name": "python3"
  },
  "language_info": {
   "codemirror_mode": {
    "name": "ipython",
    "version": 3
   },
   "file_extension": ".py",
   "mimetype": "text/x-python",
   "name": "python",
   "nbconvert_exporter": "python",
   "pygments_lexer": "ipython3",
   "version": "3.10.10"
  }
 },
 "nbformat": 4,
 "nbformat_minor": 4
}
