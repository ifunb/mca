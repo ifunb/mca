{
 "cells": [
  {
   "cell_type": "markdown",
   "metadata": {
    "id": "qs-b4OP4hzWm"
   },
   "source": [
    "<div style=\"width:90%; text-align:center; border-width: 0px; display:block; margin-left:auto; margin-right:auto;\">\n",
    "<div class=\"alert alert-block alert-success\" style=\"text-align:center; color:navy;\">\n",
    "<img src=\"https://raw.githubusercontent.com/bgeneto/MCA/main/imagens/logo_unb.png\" style=\"width: 200px; opacity:0.85;\">\n",
    "<h1>Universidade de Brasília</h1>\n",
    "<h2>Instituto de Física</h2>\n",
    "<hr style=\"width:44%;border:1px solid navy;\">\n",
    "<h3>Métodos Computacionais A (MCA)</h3> \n",
    "<h4>Prof. Bernhard Enders</h4>\n",
    "<hr style=\"width:44%;border:1px solid navy;\">\n",
    "</div>\n",
    "</div>"
   ]
  },
  {
   "cell_type": "markdown",
   "metadata": {
    "id": "wgE5OgbHirDl"
   },
   "source": [
    "# **➲ Aula 01 - Introdução à Disciplina**\n",
    "\n",
    "## ➥ O que será visto?\n",
    "---\n",
    "\n",
    "* Introdução ao Python.\n",
    "* Evitando erros numéricos. \n",
    "* Zero e gráficos de funções.\n",
    "* Equações não lineares.\n",
    "* Aproximação de funções (interpolação e extrapolação).\n",
    "* Diferenciação numérica.\n",
    "* Integração numérica.\n",
    "* Equações diferenciais ordinárias.\n",
    "* Autovalores e autovetores.\n",
    "* Tópicos avançados em computação científica.\n",
    "\n",
    "## ➥ Como será visto?\n",
    "---\n",
    "\n",
    "Utilizaremos a linguagem de programação **Python** para implementar as soluções numéricas dos problemas propostos. Faremos exercícios práticos usando Python no ambiente [aprender3](https://aprender3.unb.br).\n",
    "\n",
    "## ➥ Por que usar Python?\n",
    "---\n",
    "\n",
    "Python e Fortran são linguagens de programação muito diferentes em suas características e funcionalidades. Cada uma possui vantagens e desvantagens em relação ao uso em computação científica. Abaixo, apresento algumas das vantagens e desvantagens do uso de Python e Fortran em computação científica:\n",
    "\n",
    "**➭ Vantagens do uso de Python em computação científica:**\n",
    "\n",
    "- Facilidade de uso: Python é uma linguagem muito fácil de aprender e usar. Sua sintaxe é simples e legível, o que torna o desenvolvimento de códigos mais rápido e intuitivo.\n",
    "\n",
    "- Grande comunidade: Python tem uma grande comunidade de desenvolvedores e cientistas de dados, o que significa que há muitos pacotes e bibliotecas disponíveis para diferentes tarefas em ciência de dados, aprendizado de máquina e análise numérica.\n",
    "\n",
    "- Versatilidade: Python é uma linguagem geral e pode ser usada em diferentes tipos de tarefas de computação científica. Além disso, o Python pode ser facilmente integrado a outras linguagens, como C e Fortran, para aumentar a eficiência de códigos críticos em termos de desempenho.\n",
    "\n",
    "- Visualização: Python oferece várias bibliotecas para visualização de dados, como o Matplotlib, o Plotly e o Seaborn, tornando a visualização de resultados de análise de dados uma tarefa muito fácil.\n",
    "\n",
    "**➭ Desvantagens do uso de Python em computação científica:**\n",
    "\n",
    "- Desempenho: Python é uma linguagem interpretada, o que significa que ela é mais lenta que Fortran para executar códigos. Embora existam bibliotecas em Python, como NumPy, SciPy e Numba, que podem acelerar o processamento de dados, mesmo assim elas ainda podem ser mais lentas do que Fortran.\n",
    "\n",
    "- Custo computacional: Python é uma linguagem de alto nível e, por isso, exige mais recursos do computador para executar os códigos. Isso pode ser um problema em problemas de grande escala, que exigem mais recursos computacionais.\n",
    "\n",
    "**➭ Vantagens do uso de Fortran em computação científica:**\n",
    "\n",
    "- Desempenho: Fortran é uma linguagem de baixo nível e compilada, o que significa que ela é muito mais rápida que Python na execução de códigos numéricos e matemáticos.\n",
    "\n",
    "- Eficiência computacional: Fortran é especialmente eficiente em cálculos numéricos intensivos, como simulações e modelagem matemática.\n",
    "\n",
    "**➭ Desvantagens do uso de Fortran em computação científica:**\n",
    "\n",
    "- Curva de aprendizado: Fortran é uma linguagem mais difícil de aprender e de usar do que Python. Sua sintaxe é menos legível e pode levar mais tempo para desenvolver códigos em comparação com Python.\n",
    "\n",
    "- Menor comunidade: A comunidade de desenvolvedores de Fortran é menor do que a de Python, o que significa que há menos pacotes e bibliotecas disponíveis para tarefas específicas de ciência de dados."
   ]
  },
  {
   "cell_type": "markdown",
   "metadata": {},
   "source": [
    "## ➥ Mas será que os benefícios compensam o prejuízo?\n",
    "---\n",
    "\n",
    "Vamos verificar na prática quão fácil é desenvolver uma aplicação em Python e qual é o prejuízo final — em desempenho — com o seguinte exemplo:"
   ]
  },
  {
   "cell_type": "markdown",
   "metadata": {},
   "source": [
    "<div class=\"alert alert-block alert-info\">\n",
    "<b>&#9997; Exemplo:</b> Escreva um programa que calcule a quantidade de divisores de cada um dos números inteiros compreendidos no intervalo [a, b].\n",
    "</div>"
   ]
  },
  {
   "cell_type": "markdown",
   "metadata": {},
   "source": [
    "Como ainda não sabemos programar em Python, utilizaremos IA (ChatGPT) para gerar o código Python, vejamos como é simples... Primeiro importamos as bibliotecas necessárias e nossa chave da API:"
   ]
  },
  {
   "cell_type": "code",
   "execution_count": 1,
   "metadata": {
    "tags": []
   },
   "outputs": [],
   "source": [
    "import os\n",
    "import openai\n",
    "from IPython.display import Markdown\n",
    "openai.api_key = os.getenv(\"OPENAI_API_KEY\")\n",
    "MODEL = \"gpt-3.5-turbo\""
   ]
  },
  {
   "cell_type": "markdown",
   "metadata": {},
   "source": [
    "Preparamos a pergunta:"
   ]
  },
  {
   "cell_type": "code",
   "execution_count": 1,
   "metadata": {
    "tags": []
   },
   "outputs": [],
   "source": [
    "prompt = \"\"\"Atuar como um desenvolvedor Python experiente.\n",
    "            Responda da forma mais concisa possível.\n",
    "            Suas respostas (saídas) devem ser compatíveis com Jupyter notebook Markdown.\"\"\"\n",
    "        \n",
    "pergunta = \"Escreva uma função em Python para calcular o número de divisores de um número inteiro n dado como argumento\"\n",
    "\n",
    "msg=[\n",
    "    {\"role\": \"system\", \"content\": prompt},\n",
    "    {\"role\": \"user\", \"content\": pergunta},\n",
    "]"
   ]
  },
  {
   "cell_type": "markdown",
   "metadata": {},
   "source": [
    "Executamos a consulta ao ChatGPT:"
   ]
  },
  {
   "cell_type": "code",
   "execution_count": 11,
   "metadata": {},
   "outputs": [],
   "source": [
    "response = openai.ChatCompletion.create(\n",
    "    model=MODEL,\n",
    "    messages=msg,\n",
    "    temperature=0.3,\n",
    "    max_tokens=512,\n",
    "    top_p=1,\n",
    "    frequency_penalty=0,\n",
    "    presence_penalty=0\n",
    ")\n",
    "resposta = response[\"choices\"][0][\"message\"][\"content\"]"
   ]
  },
  {
   "cell_type": "code",
   "execution_count": 12,
   "metadata": {},
   "outputs": [
    {
     "data": {
      "text/markdown": [
       "```python\n",
       "def num_divisores(n):\n",
       "    \"\"\"\n",
       "    Calcula o número de divisores de um número inteiro n.\n",
       "    \n",
       "    Argumentos:\n",
       "    n -- um número inteiro\n",
       "    \n",
       "    Retorna:\n",
       "    O número de divisores de n\n",
       "    \"\"\"\n",
       "    divisores = 0\n",
       "    for i in range(1, n+1):\n",
       "        if n % i == 0:\n",
       "            divisores += 1\n",
       "    return divisores\n",
       "```\n",
       "\n",
       "Exemplo de uso:\n",
       "```python\n",
       ">>> num_divisores(12)\n",
       "6\n",
       ">>> num_divisores(17)\n",
       "2\n",
       "```"
      ],
      "text/plain": [
       "<IPython.core.display.Markdown object>"
      ]
     },
     "execution_count": 12,
     "metadata": {},
     "output_type": "execute_result"
    }
   ],
   "source": [
    "Markdown(resposta)"
   ]
  },
  {
   "cell_type": "markdown",
   "metadata": {},
   "source": [
    "Essa parece ser uma resposta correta. Mas Vamos tentar melhorar a resposta..."
   ]
  },
  {
   "cell_type": "markdown",
   "metadata": {},
   "source": [
    "## ➥ A importância de usar Numpy\n",
    "---"
   ]
  },
  {
   "cell_type": "code",
   "execution_count": 13,
   "metadata": {},
   "outputs": [],
   "source": [
    "# vamos pedir para a IA usar a biblioteca numérica de Python: Numpy\n",
    "\n",
    "nova_pergunta = \"Otimize o código fornecido usando numpy.\"\n",
    "\n",
    "msg=[\n",
    "    {\"role\": \"system\", \"content\": prompt},\n",
    "    {\"role\": \"user\", \"content\": pergunta},\n",
    "    {\"role\": \"assistant\", \"content\": resposta},\n",
    "    {\"role\": \"user\", \"content\": nova_pergunta},\n",
    "]\n",
    "\n",
    "response = openai.ChatCompletion.create(\n",
    "    model=MODEL,\n",
    "    messages=msg,\n",
    "    temperature=0.3,\n",
    "    max_tokens=512,\n",
    "    top_p=1,\n",
    "    frequency_penalty=0,\n",
    "    presence_penalty=0\n",
    ")\n",
    "\n",
    "nova_resposta = response[\"choices\"][0][\"message\"][\"content\"]"
   ]
  },
  {
   "cell_type": "code",
   "execution_count": 14,
   "metadata": {},
   "outputs": [
    {
     "data": {
      "text/markdown": [
       "Para otimizar o código usando numpy, podemos usar a função `numpy.arange` para gerar um array com os números de 1 a `n`, e depois usar a função `numpy.count_nonzero` para contar quantos elementos desse array são divisores de `n`.\n",
       "\n",
       "```python\n",
       "import numpy as np\n",
       "\n",
       "def num_divisores(n):\n",
       "    \"\"\"\n",
       "    Calcula o número de divisores de um número inteiro n.\n",
       "    \n",
       "    Argumentos:\n",
       "    n -- um número inteiro\n",
       "    \n",
       "    Retorna:\n",
       "    O número de divisores de n\n",
       "    \"\"\"\n",
       "    divisores = np.count_nonzero(n % np.arange(1, n+1) == 0)\n",
       "    return divisores\n",
       "```\n",
       "\n",
       "Exemplo de uso:\n",
       "```python\n",
       ">>> num_divisores(12)\n",
       "6\n",
       ">>> num_divisores(17)\n",
       "2\n",
       "```"
      ],
      "text/plain": [
       "<IPython.core.display.Markdown object>"
      ]
     },
     "execution_count": 14,
     "metadata": {},
     "output_type": "execute_result"
    }
   ],
   "source": [
    "Markdown(nova_resposta)"
   ]
  },
  {
   "cell_type": "markdown",
   "metadata": {},
   "source": [
    "**➭ Medindo o desempenho da versão com NumPy**"
   ]
  },
  {
   "cell_type": "markdown",
   "metadata": {},
   "source": [
    "Agora vamos verificar qual é a versão mais rápida usando o comando \"mágico\" `timeit` do Jupyter notebook. Mas primeiramente vamos renomear as funções:"
   ]
  },
  {
   "cell_type": "code",
   "execution_count": 2,
   "metadata": {
    "tags": []
   },
   "outputs": [],
   "source": [
    "def num_divisores_simples(n):\n",
    "    \"\"\"\n",
    "    Calcula o número de divisores de um número inteiro n.\n",
    "    \n",
    "    Argumentos:\n",
    "    n -- um número inteiro\n",
    "    \n",
    "    Retorna:\n",
    "    O número de divisores de n\n",
    "    \"\"\"\n",
    "    divisores = 0\n",
    "    for i in range(1, n+1):\n",
    "        if n % i == 0:\n",
    "            divisores += 1\n",
    "    return divisores\n"
   ]
  },
  {
   "cell_type": "code",
   "execution_count": 3,
   "metadata": {
    "tags": []
   },
   "outputs": [],
   "source": [
    "import numpy as np\n",
    "\n",
    "def num_divisores_numpy(n):\n",
    "    \"\"\"\n",
    "    Calcula o número de divisores de um número inteiro n.\n",
    "    \n",
    "    Argumentos:\n",
    "    n -- um número inteiro\n",
    "    \n",
    "    Retorna:\n",
    "    O número de divisores de n\n",
    "    \"\"\"\n",
    "    divisores = np.count_nonzero(n % np.arange(1, n+1) == 0)\n",
    "    return divisores"
   ]
  },
  {
   "cell_type": "code",
   "execution_count": 4,
   "metadata": {
    "tags": []
   },
   "outputs": [],
   "source": [
    "# Este é um número primo relativamente grande  \n",
    "n = 110119"
   ]
  },
  {
   "cell_type": "code",
   "execution_count": 5,
   "metadata": {
    "tags": []
   },
   "outputs": [
    {
     "name": "stdout",
     "output_type": "stream",
     "text": [
      "2.19 ms ± 47.5 µs per loop (mean ± std. dev. of 7 runs, 100 loops each)\n"
     ]
    }
   ],
   "source": [
    "%%timeit\n",
    "num_divisores_simples(n)"
   ]
  },
  {
   "cell_type": "markdown",
   "metadata": {},
   "source": [
    "Note que o comando `timeit` executa a função muitas vezes e já calcula a média e o desvio padrão pra gente!"
   ]
  },
  {
   "cell_type": "code",
   "execution_count": 6,
   "metadata": {
    "tags": []
   },
   "outputs": [
    {
     "name": "stdout",
     "output_type": "stream",
     "text": [
      "258 µs ± 1.48 µs per loop (mean ± std. dev. of 7 runs, 1,000 loops each)\n"
     ]
    }
   ],
   "source": [
    "%%timeit\n",
    "num_divisores_numpy(n)"
   ]
  },
  {
   "cell_type": "markdown",
   "metadata": {},
   "source": [
    "Podemos coletar o tempo de execução médio (em ms) usando o `timeit` de maneira ligeiramente diferente:"
   ]
  },
  {
   "cell_type": "code",
   "execution_count": 7,
   "metadata": {
    "tags": []
   },
   "outputs": [
    {
     "data": {
      "text/plain": [
       "2.168156315716"
      ]
     },
     "execution_count": 7,
     "metadata": {},
     "output_type": "execute_result"
    }
   ],
   "source": [
    "tempo = %timeit -o -q num_divisores_simples(n)\n",
    "tempo.average*1000"
   ]
  },
  {
   "cell_type": "code",
   "execution_count": 8,
   "metadata": {
    "tags": []
   },
   "outputs": [
    {
     "data": {
      "text/plain": [
       "0.2564740520001578"
      ]
     },
     "execution_count": 8,
     "metadata": {},
     "output_type": "execute_result"
    }
   ],
   "source": [
    "ntempo = %timeit -o -q num_divisores_numpy(n)\n",
    "ntempo.average*1000"
   ]
  },
  {
   "cell_type": "code",
   "execution_count": 9,
   "metadata": {
    "tags": []
   },
   "outputs": [
    {
     "data": {
      "text/markdown": [
       "#### Ganho de velocidade com NumPy: 8.45x"
      ],
      "text/plain": [
       "<IPython.core.display.Markdown object>"
      ]
     },
     "execution_count": 9,
     "metadata": {},
     "output_type": "execute_result"
    }
   ],
   "source": [
    "Markdown('#### Ganho de velocidade com NumPy: {:.2f}x'.format(tempo.average/ntempo.average))"
   ]
  },
  {
   "cell_type": "markdown",
   "metadata": {},
   "source": [
    "<div class=\"alert alert-block alert-warning\">\n",
    "💡 <b>NOTA:</b> Observe o enorme ganho de desempenho proveniente \"apenas\" do uso da biblioteca <b>numpy</b>. Isso já nos mostra a importância de saber utilizar o numpy corretamente. \n",
    "</div>"
   ]
  },
  {
   "cell_type": "markdown",
   "metadata": {},
   "source": [
    "## ➥ Otimizando ainda mais\n",
    "---"
   ]
  },
  {
   "cell_type": "markdown",
   "metadata": {},
   "source": [
    "Será que podemos melhorar ainda mais esse desempenho? Existe alguma outra biblioteca fácil de usar que nos dê resultados cuja performance seja mais próxima de Fortran, por exemplo? Vamos conhecer a biblioteca **numba**, com apenas uma linha decorativa em nosso código mais simples, obtemos um resultado fantástico!"
   ]
  },
  {
   "cell_type": "code",
   "execution_count": 10,
   "metadata": {
    "tags": []
   },
   "outputs": [],
   "source": [
    "import numba as nb\n",
    "\n",
    "@nb.njit\n",
    "def num_divisores_numba(n):\n",
    "    \"\"\"\n",
    "    Calcula o número de divisores de um número inteiro n.\n",
    "    \n",
    "    Argumentos:\n",
    "    n -- um número inteiro\n",
    "    \n",
    "    Retorna:\n",
    "    O número de divisores de n\n",
    "    \"\"\"\n",
    "    divisores = 0\n",
    "    for i in range(1, n+1):\n",
    "        if n % i == 0:\n",
    "            divisores += 1\n",
    "    return divisores"
   ]
  },
  {
   "cell_type": "markdown",
   "metadata": {},
   "source": [
    "Vamos verificar se o resultado está correto, isto é, se n continua sendo um número primo:"
   ]
  },
  {
   "cell_type": "code",
   "execution_count": 11,
   "metadata": {
    "tags": []
   },
   "outputs": [
    {
     "data": {
      "text/plain": [
       "2"
      ]
     },
     "execution_count": 11,
     "metadata": {},
     "output_type": "execute_result"
    }
   ],
   "source": [
    "# converte para um inteiro de tamanho fixo: 32-bit\n",
    "n = np.int32(n)\n",
    "num_divisores_numba(np.int32(n))"
   ]
  },
  {
   "cell_type": "markdown",
   "metadata": {},
   "source": [
    "Tudo parece OK, vamos ver se a performance é melhor com numba em relação ao numpy..."
   ]
  },
  {
   "cell_type": "code",
   "execution_count": 13,
   "metadata": {
    "tags": []
   },
   "outputs": [
    {
     "name": "stdout",
     "output_type": "stream",
     "text": [
      "214 µs ± 712 ns per loop (mean ± std. dev. of 7 runs, 1,000 loops each)\n"
     ]
    }
   ],
   "source": [
    "%%timeit \n",
    "num_divisores_numba(n)"
   ]
  },
  {
   "cell_type": "markdown",
   "metadata": {},
   "source": [
    "Como podemos ver, a versão com **Numba** é cerca de **1,5x mais rápida** que a versão com **NumPy**. Este resultado, é claro, depende da máquina/CPU utilizada e também do algoritmo testado."
   ]
  },
  {
   "cell_type": "markdown",
   "metadata": {},
   "source": [
    "## ➥ Comparando com Fortran\n",
    "---"
   ]
  },
  {
   "cell_type": "code",
   "execution_count": 18,
   "metadata": {
    "tags": []
   },
   "outputs": [
    {
     "name": "stdout",
     "output_type": "stream",
     "text": [
      "Overwriting divisores.f90\n"
     ]
    }
   ],
   "source": [
    "%%writefile divisores.f90\n",
    "\n",
    "module code\n",
    "\n",
    "   use iso_fortran_env, only: int64\n",
    "\n",
    "contains\n",
    "\n",
    "   function num_divisores(n) result(divisores)\n",
    "      implicit none\n",
    "      integer(kind=int64), intent(in) :: n\n",
    "      integer(kind=int64) :: i, divisores, ndivisores\n",
    "      ndivisores = 0\n",
    "      do i = 1, n\n",
    "         if (mod(n,i) == 0) then\n",
    "            ndivisores = ndivisores + 1\n",
    "         end if\n",
    "      end do\n",
    "      divisores = ndivisores\n",
    "   end function num_divisores\n",
    "\n",
    "end module code\n",
    "\n",
    "program main\n",
    "   use code\n",
    "   use iso_fortran_env, only: int64\n",
    "\n",
    "   implicit none\n",
    "\n",
    "   integer(kind=int64) :: n, divs\n",
    "   real :: t1, t2, elapsed\n",
    "\n",
    "   n = 110119\n",
    "\n",
    "   call cpu_time(t1)\n",
    "   divs = num_divisores(n)\n",
    "   call cpu_time(t2)\n",
    "   elapsed = t2 - t1\n",
    "   print*, \"Elapsed time (us): \", elapsed*1e6\n",
    "\n",
    "end program main"
   ]
  },
  {
   "cell_type": "code",
   "execution_count": 19,
   "metadata": {
    "tags": []
   },
   "outputs": [
    {
     "name": "stdout",
     "output_type": "stream",
     "text": [
      " Elapsed time (ms):    214.999985    \n"
     ]
    }
   ],
   "source": [
    "%%bash\n",
    "gfortran divisores.f90 \n",
    "./a.out"
   ]
  }
 ],
 "metadata": {
  "colab": {
   "provenance": []
  },
  "kernelspec": {
   "display_name": "Python 3 (ipykernel)",
   "language": "python",
   "name": "python3"
  },
  "language_info": {
   "codemirror_mode": {
    "name": "ipython",
    "version": 3
   },
   "file_extension": ".py",
   "mimetype": "text/x-python",
   "name": "python",
   "nbconvert_exporter": "python",
   "pygments_lexer": "ipython3",
   "version": "3.10.10"
  },
  "vscode": {
   "interpreter": {
    "hash": "c6f5971c4b8f55c07f21d358e9303b9e57f31eec2f7748b3e83dfc05726d64d8"
   }
  }
 },
 "nbformat": 4,
 "nbformat_minor": 4
}
